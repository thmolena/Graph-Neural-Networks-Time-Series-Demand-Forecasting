{
  "cells": [
    {
      "cell_type": "markdown",
      "metadata": {
        "id": "bgc8yb4c2W0g"
      },
      "source": [
        "# Recurrent Neural Network - LSTM\n"
      ]
    },
    {
      "cell_type": "markdown",
      "metadata": {
        "id": "aew2N81e35Uc"
      },
      "source": [
        "## Part 1 - Data Preprocessing\n",
        "\n",
        "---\n",
        "\n"
      ]
    },
    {
      "cell_type": "markdown",
      "metadata": {
        "id": "Z0vulSxH2hHu"
      },
      "source": [
        "### Import the libraries"
      ]
    },
    {
      "cell_type": "code",
      "execution_count": null,
      "metadata": {
        "id": "p2SjiqlE2O08",
        "colab": {
          "base_uri": "https://localhost:8080/"
        },
        "outputId": "d2c807e0-d121-49a0-b6a1-d0cc5496dee3"
      },
      "outputs": [
        {
          "output_type": "stream",
          "name": "stderr",
          "text": [
            "/usr/local/lib/python3.7/dist-packages/statsmodels/tools/_testing.py:19: FutureWarning: pandas.util.testing is deprecated. Use the functions in the public API at pandas.testing instead.\n",
            "  import pandas.util.testing as tm\n"
          ]
        }
      ],
      "source": [
        "import numpy as np\n",
        "import matplotlib.pyplot as plt\n",
        "import pandas as pd\n",
        "\n",
        "import math\n",
        "from keras.models import Sequential\n",
        "from keras.layers import Dense, LSTM, GRU, Dropout\n",
        "from sklearn.metrics import mean_absolute_error, mean_squared_error\n",
        "\n",
        "from keras.layers.core import Dense\n",
        "from keras.layers.recurrent import LSTM\n",
        "from keras.layers import  Dropout\n",
        "from keras import regularizers\n",
        "\n",
        "import keras.backend as K\n",
        "\n",
        "import seaborn as sns\n",
        "from keras.callbacks import LearningRateScheduler\n",
        "from keras.callbacks import ModelCheckpoint\n",
        "from keras.layers import *\n",
        "\n",
        "\n",
        "import sys, time, random, json, pickle, itertools\n",
        "import networkx as nx\n",
        "import matplotlib\n",
        "import scipy.stats\n",
        "from sklearn.neighbors import KernelDensity\n",
        "import statsmodels.stats.correlation_tools as stm\n",
        "\n",
        "import torch, torchvision\n",
        "from sklearn.preprocessing import MinMaxScaler\n",
        "np.random.seed(12345678)"
      ]
    },
    {
      "cell_type": "markdown",
      "metadata": {
        "id": "36Q16Udt2l3W"
      },
      "source": [
        "### Import the database"
      ]
    },
    {
      "cell_type": "code",
      "execution_count": null,
      "metadata": {
        "id": "or7UuAX_PgCb",
        "colab": {
          "base_uri": "https://localhost:8080/"
        },
        "outputId": "a4673929-97d2-45bb-b165-071b297efcb8"
      },
      "outputs": [
        {
          "output_type": "stream",
          "name": "stdout",
          "text": [
            "Mounted at /content/drive\n"
          ]
        }
      ],
      "source": [
        "from google.colab import drive\n",
        "drive.mount('/content/drive',force_remount=True)\n",
        "\n",
        "import os\n",
        "workdir_path = '/content/drive/MyDrive/Summer 2022 RA'\n",
        "os.chdir(workdir_path)"
      ]
    },
    {
      "cell_type": "code",
      "execution_count": null,
      "metadata": {
        "id": "1ivhnWxD2eEG",
        "colab": {
          "base_uri": "https://localhost:8080/"
        },
        "outputId": "f89d2356-192f-4984-fa5a-f7d5a1cafb42"
      },
      "outputs": [
        {
          "output_type": "stream",
          "name": "stdout",
          "text": [
            "Number of non-existent files: 0\n"
          ]
        }
      ],
      "source": [
        "# Define data files\n",
        "datadir = 'dataverse_files/'\n",
        "datafn_tmpl = datadir + 'sms-call-internet-mi-%4d-%02d-%02d.txt'\n",
        "datafn_idxs = [ (2013, 11, i) for i in range(1,5) ]  #+ [ (2013, 12, i) for i in range(1, 32) ] + [ (2014, 1, 1) ]\n",
        "datafns = [ datafn_tmpl % x for x in datafn_idxs ]\n",
        "print(\"Number of non-existent files:\", sum([ not os.path.exists(fn) for fn in datafns ]))\n",
        "outfn = datadir[:-1] + '-internet.csv'\n",
        "\n",
        "# dataset_train = pd.read_csv('train.csv')\n",
        "# training_set = dataset_train.iloc[:, 1:2].values #only column of the series itself"
      ]
    },
    {
      "cell_type": "code",
      "execution_count": null,
      "metadata": {
        "id": "wkOaBKB5xuts"
      },
      "outputs": [],
      "source": [
        "# Pick the data files to index\n",
        "fns = datafns#[:10]"
      ]
    },
    {
      "cell_type": "markdown",
      "metadata": {
        "id": "fIKzwwumFPG0"
      },
      "source": [
        "### Read and Preprocess Data (Save to CSV)"
      ]
    },
    {
      "cell_type": "code",
      "execution_count": null,
      "metadata": {
        "id": "z12MQj__x28y"
      },
      "outputs": [],
      "source": [
        "data = pd.DataFrame()\n",
        "for fn in fns:\n",
        "    #print('Reading file ', fn, ' ...')\n",
        "    df = pd.read_csv(fn, sep=\"\\t\", header=None, names=['grid', 'time', 'country', 'sms-in', 'sms-out', 'call-in', 'call-out', 'internet'])\n",
        "    df = df[ df['country'] == 39 ].drop(columns=['country', 'sms-in', 'sms-out', 'call-in', 'call-out']).fillna(0)\n",
        "    data = pd.concat([ data, df ])\n",
        "data = data.sort_values(by=['time', 'grid']).reset_index(drop=True)"
      ]
    },
    {
      "cell_type": "code",
      "execution_count": null,
      "metadata": {
        "id": "cJk5D6IXx3GS",
        "colab": {
          "base_uri": "https://localhost:8080/"
        },
        "outputId": "eefc5771-48e0-49c4-a727-423a548e2f3e"
      },
      "outputs": [
        {
          "output_type": "stream",
          "name": "stdout",
          "text": [
            "# 10min slots: 576\n",
            "Mean internet: 61.471731830811194\n",
            "(Min, 5%, 25%, median, 75%, 95%, max) internet:\n",
            "(0.0, 2.969617072813118, 10.982975646323265, 27.925311205624425, 65.51675429623229, 235.37264641289994, 7936.265379884158)\n"
          ]
        }
      ],
      "source": [
        "# Statistics of the dataset\n",
        "print(\"# 10min slots:\", len(data['time'].unique()) )\n",
        "print(\"Mean internet:\", data['internet'].mean())\n",
        "print(\"(Min, 5%, 25%, median, 75%, 95%, max) internet:\")\n",
        "print( ( data['internet'].min(), data['internet'].quantile(0.05), data['internet'].quantile(0.25), data['internet'].median(), data['internet'].quantile(0.75), data['internet'].quantile(0.95), data['internet'].max() )  )"
      ]
    },
    {
      "cell_type": "code",
      "execution_count": null,
      "metadata": {
        "id": "w0wDDlnMx3Lg"
      },
      "outputs": [],
      "source": [
        "data.to_csv(outfn)"
      ]
    },
    {
      "cell_type": "markdown",
      "metadata": {
        "id": "NHKE7FzDFTs7"
      },
      "source": [
        "### Load Data"
      ]
    },
    {
      "cell_type": "code",
      "execution_count": null,
      "metadata": {
        "id": "efc_FSe8z9go",
        "colab": {
          "base_uri": "https://localhost:8080/"
        },
        "outputId": "20992ed3-f9f1-4901-c470-75f8c6f1228d"
      },
      "outputs": [
        {
          "output_type": "stream",
          "name": "stdout",
          "text": [
            "# 10min slots: 576\n"
          ]
        }
      ],
      "source": [
        "data = pd.read_csv(outfn, index_col=0)\n",
        "print(\"# 10min slots:\", len(data['time'].unique()) )"
      ]
    },
    {
      "cell_type": "code",
      "execution_count": null,
      "metadata": {
        "id": "0EFoC5HKz9yV"
      },
      "outputs": [],
      "source": [
        "# Find a grid with the maximum total demand for the prediction task\n",
        "max_dmd_grid = sorted([ ( data[ data['grid']==i ]['internet'].sum(), i ) for i in range(1, 10001) ])\n",
        "max_dmd_grid = list(reversed(max_dmd_grid))\n",
        "gridx = max_dmd_grid[0][1]\n",
        "#max_dmd_grid[:30]"
      ]
    },
    {
      "cell_type": "code",
      "execution_count": null,
      "metadata": {
        "id": "UmfS_pv2z-BO"
      },
      "outputs": [],
      "source": [
        "datax = data[ data['grid'] == gridx ].reset_index(drop=True)"
      ]
    },
    {
      "cell_type": "code",
      "source": [],
      "metadata": {
        "id": "0nFA3LmIVP0r"
      },
      "execution_count": null,
      "outputs": []
    },
    {
      "cell_type": "code",
      "execution_count": null,
      "metadata": {
        "id": "EArHjiRKDQfU",
        "colab": {
          "base_uri": "https://localhost:8080/",
          "height": 282
        },
        "outputId": "0c316a9d-76c7-45e1-dbe7-ed9071ff76c6"
      },
      "outputs": [
        {
          "output_type": "execute_result",
          "data": {
            "text/plain": [
              "<matplotlib.axes._subplots.AxesSubplot at 0x7f9e09e7b3d0>"
            ]
          },
          "metadata": {},
          "execution_count": 11
        },
        {
          "output_type": "display_data",
          "data": {
            "text/plain": [
              "<Figure size 432x288 with 1 Axes>"
            ],
            "image/png": "[encoded data removed]"
          },
          "metadata": {
            "needs_background": "light"
          }
        }
      ],
      "source": [
        "# Plot the data\n",
        "datax['internet'].plot()"
      ]
    },
    {
      "cell_type": "markdown",
      "metadata": {
        "id": "kDWi2tKPowq5"
      },
      "source": [
        "### Learning and Prediction"
      ]
    },
    {
      "cell_type": "markdown",
      "metadata": {
        "id": "hqFSFJV0FqV4"
      },
      "source": [
        "### Preparing data"
      ]
    },
    {
      "cell_type": "code",
      "execution_count": null,
      "metadata": {
        "id": "JJ3J07dWFso3",
        "colab": {
          "base_uri": "https://localhost:8080/"
        },
        "outputId": "fd1511bf-963c-4426-a7ee-6004eb54e10a"
      },
      "outputs": [
        {
          "output_type": "stream",
          "name": "stdout",
          "text": [
            "Train size: 384 Test size: 192\n"
          ]
        }
      ],
      "source": [
        "# Parameters\n",
        "total_size = len(datax.index)\n",
        "train_size = int(total_size * 2 / 3)\n",
        "test_size = total_size - train_size\n",
        "print(\"Train size:\", train_size, \"Test size:\", test_size)"
      ]
    },
    {
      "cell_type": "code",
      "execution_count": null,
      "metadata": {
        "id": "vFYH9SMrFsxX"
      },
      "outputs": [],
      "source": [
        "# Train/test split\n",
        "#x = datax['internet'].to_numpy()\n",
        "\n",
        "train = datax[:train_size]\n",
        "test = datax[train_size:]\n",
        "dataset_train = train\n",
        "training_set = dataset_train.iloc[:, 2:3].values"
      ]
    },
    {
      "cell_type": "markdown",
      "metadata": {
        "id": "kd39T1zK2ql1"
      },
      "source": [
        "### Time Series Graph"
      ]
    },
    {
      "cell_type": "code",
      "execution_count": null,
      "metadata": {
        "id": "vMsAFuya2rhr",
        "colab": {
          "base_uri": "https://localhost:8080/",
          "height": 295
        },
        "outputId": "dfc62945-b087-4133-b946-3f7285db5487"
      },
      "outputs": [
        {
          "output_type": "display_data",
          "data": {
            "text/plain": [
              "<Figure size 432x288 with 1 Axes>"
            ],
            "image/png": "[encoded data removed]"
          },
          "metadata": {
            "needs_background": "light"
          }
        }
      ],
      "source": [
        "plt.plot(training_set)\n",
        "plt.xlabel(\"Time\")\n",
        "plt.ylabel(\"Internet\")\n",
        "plt.title(\"Time Series Graph\")\n",
        "plt.show()\n",
        "\n",
        "# plt.plot(datax['internet'])\n",
        "# plt.xlabel(\"Time\")\n",
        "# plt.ylabel(\"Internet\")\n",
        "# plt.title(\"Time Series Graph\")\n",
        "# plt.show()"
      ]
    },
    {
      "cell_type": "markdown",
      "metadata": {
        "id": "7p1F7HdB2uJU"
      },
      "source": [
        "### Normalization\n",
        "\n"
      ]
    },
    {
      "cell_type": "code",
      "execution_count": null,
      "metadata": {
        "id": "foeHRZr-2u-L"
      },
      "outputs": [],
      "source": [
        "from sklearn.preprocessing import MinMaxScaler\n",
        "sc = MinMaxScaler(feature_range = (0, 1))\n",
        "training_set_scaled = sc.fit_transform(training_set)"
      ]
    },
    {
      "cell_type": "markdown",
      "metadata": {
        "id": "uQP8Q7MI21Y9"
      },
      "source": [
        "### Create the data structure with window 15 and output 1"
      ]
    },
    {
      "cell_type": "code",
      "execution_count": null,
      "metadata": {
        "id": "C6Ge9ql922cb"
      },
      "outputs": [],
      "source": [
        "window = 144\n",
        "trainSize = len(training_set_scaled)\n",
        "X_train = []\n",
        "y_train = []\n",
        "for i in range(window, trainSize):\n",
        "    X_train.append(training_set_scaled[i-window:i, 0])\n",
        "    y_train.append(training_set_scaled[i, 0])\n",
        "X_train, y_train = np.array(X_train), np.array(y_train)"
      ]
    },
    {
      "cell_type": "markdown",
      "metadata": {
        "id": "LPBC2LoG24dU"
      },
      "source": [
        "### Reshaping"
      ]
    },
    {
      "cell_type": "code",
      "execution_count": null,
      "metadata": {
        "id": "oGwgQUDbdmnS",
        "colab": {
          "base_uri": "https://localhost:8080/"
        },
        "outputId": "a9763496-83e0-4d96-b7a9-6ac3c859b382"
      },
      "outputs": [
        {
          "output_type": "execute_result",
          "data": {
            "text/plain": [
              "(240, 144)"
            ]
          },
          "metadata": {},
          "execution_count": 17
        }
      ],
      "source": [
        "X_train.shape"
      ]
    },
    {
      "cell_type": "code",
      "execution_count": null,
      "metadata": {
        "id": "b9ZfLlGH25fr"
      },
      "outputs": [],
      "source": [
        "X_train = np.reshape(X_train, (X_train.shape[0], X_train.shape[1], 1))"
      ]
    },
    {
      "cell_type": "code",
      "execution_count": null,
      "metadata": {
        "id": "RxU0axM9diHO",
        "colab": {
          "base_uri": "https://localhost:8080/"
        },
        "outputId": "4c7b1d1e-7e46-406e-f05d-45a0ec183f03"
      },
      "outputs": [
        {
          "output_type": "execute_result",
          "data": {
            "text/plain": [
              "(240, 144, 1)"
            ]
          },
          "metadata": {},
          "execution_count": 19
        }
      ],
      "source": [
        "X_train.shape"
      ]
    },
    {
      "cell_type": "markdown",
      "metadata": {
        "id": "fZhjp7Tf282b"
      },
      "source": [
        "## Part 2 - Construction of the RNN"
      ]
    },
    {
      "cell_type": "markdown",
      "metadata": {
        "id": "kordpD0_3H7b"
      },
      "source": [
        "### Construction of the complete network"
      ]
    },
    {
      "cell_type": "code",
      "execution_count": null,
      "metadata": {
        "id": "EskB17uo3Iso",
        "colab": {
          "base_uri": "https://localhost:8080/"
        },
        "outputId": "f399fef4-0d88-4e14-fb8a-9af9cbcfd0aa"
      },
      "outputs": [
        {
          "output_type": "stream",
          "name": "stdout",
          "text": [
            "Model: \"sequential\"\n",
            "_________________________________________________________________\n",
            " Layer (type)                Output Shape              Param #   \n",
            "=================================================================\n",
            " lstm (LSTM)                 (None, 384)               592896    \n",
            "                                                                 \n",
            " dropout (Dropout)           (None, 384)               0         \n",
            "                                                                 \n",
            " dense (Dense)               (None, 1)                 385       \n",
            "                                                                 \n",
            "=================================================================\n",
            "Total params: 593,281\n",
            "Trainable params: 593,281\n",
            "Non-trainable params: 0\n",
            "_________________________________________________________________\n"
          ]
        }
      ],
      "source": [
        "# Initialize the RNN\n",
        "regressor = Sequential()\n",
        "\n",
        "# Add the first LSTM layer and Dropout\n",
        "regressor.add(LSTM (  len(train) , activation = 'tanh', input_shape =(X_train.shape[1], 1),kernel_regularizer=regularizers.l1_l2(l1=0.0,l2=0.0) ))\n",
        "regressor.add(Dropout(0.2))\n",
        "regressor.add (Dense (units = 1, activation = 'linear'))\n",
        "\n",
        "\n",
        "# Compile the network\n",
        "regressor.compile(optimizer = 'adam', loss = 'mean_squared_error')\n",
        "\n",
        "# Summarize the network\n",
        "regressor.summary()"
      ]
    },
    {
      "cell_type": "markdown",
      "metadata": {
        "id": "5j1w28g83iSR"
      },
      "source": [
        "### Training"
      ]
    },
    {
      "cell_type": "code",
      "execution_count": null,
      "metadata": {
        "id": "xWKAuKyp3jXv",
        "colab": {
          "base_uri": "https://localhost:8080/"
        },
        "outputId": "c2ae29f4-f520-4b17-92f7-08fde9f41320"
      },
      "outputs": [
        {
          "output_type": "stream",
          "name": "stdout",
          "text": [
            "Epoch 1/150\n",
            "2/2 [==============================] - 6s 2s/step - loss: 0.0613\n",
            "Epoch 2/150\n",
            "2/2 [==============================] - 4s 2s/step - loss: 0.0130\n",
            "Epoch 3/150\n",
            "2/2 [==============================] - 4s 2s/step - loss: 0.0076\n",
            "Epoch 4/150\n",
            "2/2 [==============================] - 4s 2s/step - loss: 0.0079\n",
            "Epoch 5/150\n",
            "2/2 [==============================] - 3s 2s/step - loss: 0.0066\n",
            "Epoch 6/150\n",
            "2/2 [==============================] - 3s 2s/step - loss: 0.0040\n",
            "Epoch 7/150\n",
            "2/2 [==============================] - 3s 2s/step - loss: 0.0054\n",
            "Epoch 8/150\n",
            "2/2 [==============================] - 3s 2s/step - loss: 0.0033\n",
            "Epoch 9/150\n",
            "2/2 [==============================] - 4s 2s/step - loss: 0.0033\n",
            "Epoch 10/150\n",
            "2/2 [==============================] - 4s 2s/step - loss: 0.0038\n",
            "Epoch 11/150\n",
            "2/2 [==============================] - 4s 2s/step - loss: 0.0030\n",
            "Epoch 12/150\n",
            "2/2 [==============================] - 5s 2s/step - loss: 0.0031\n",
            "Epoch 13/150\n",
            "2/2 [==============================] - 4s 2s/step - loss: 0.0031\n",
            "Epoch 14/150\n",
            "2/2 [==============================] - 4s 2s/step - loss: 0.0024\n",
            "Epoch 15/150\n",
            "2/2 [==============================] - 3s 2s/step - loss: 0.0032\n",
            "Epoch 16/150\n",
            "2/2 [==============================] - 4s 2s/step - loss: 0.0027\n",
            "Epoch 17/150\n",
            "2/2 [==============================] - 3s 2s/step - loss: 0.0026\n",
            "Epoch 18/150\n",
            "2/2 [==============================] - 4s 2s/step - loss: 0.0027\n",
            "Epoch 19/150\n",
            "2/2 [==============================] - 3s 2s/step - loss: 0.0027\n",
            "Epoch 20/150\n",
            "2/2 [==============================] - 4s 2s/step - loss: 0.0025\n",
            "Epoch 21/150\n",
            "2/2 [==============================] - 3s 2s/step - loss: 0.0026\n",
            "Epoch 22/150\n",
            "2/2 [==============================] - 3s 2s/step - loss: 0.0028\n",
            "Epoch 23/150\n",
            "2/2 [==============================] - 4s 2s/step - loss: 0.0022\n",
            "Epoch 24/150\n",
            "2/2 [==============================] - 3s 2s/step - loss: 0.0027\n",
            "Epoch 25/150\n",
            "2/2 [==============================] - 4s 2s/step - loss: 0.0025\n",
            "Epoch 26/150\n",
            "2/2 [==============================] - 4s 2s/step - loss: 0.0024\n",
            "Epoch 27/150\n",
            "2/2 [==============================] - 3s 2s/step - loss: 0.0024\n",
            "Epoch 28/150\n",
            "2/2 [==============================] - 3s 2s/step - loss: 0.0023\n",
            "Epoch 29/150\n",
            "2/2 [==============================] - 3s 2s/step - loss: 0.0025\n",
            "Epoch 30/150\n",
            "2/2 [==============================] - 4s 2s/step - loss: 0.0026\n",
            "Epoch 31/150\n",
            "2/2 [==============================] - 4s 2s/step - loss: 0.0025\n",
            "Epoch 32/150\n",
            "2/2 [==============================] - 3s 2s/step - loss: 0.0025\n",
            "Epoch 33/150\n",
            "2/2 [==============================] - 3s 2s/step - loss: 0.0026\n",
            "Epoch 34/150\n",
            "2/2 [==============================] - 3s 2s/step - loss: 0.0026\n",
            "Epoch 35/150\n",
            "2/2 [==============================] - 3s 2s/step - loss: 0.0023\n",
            "Epoch 36/150\n",
            "2/2 [==============================] - 3s 2s/step - loss: 0.0024\n",
            "Epoch 37/150\n",
            "2/2 [==============================] - 4s 2s/step - loss: 0.0023\n",
            "Epoch 38/150\n",
            "2/2 [==============================] - 3s 2s/step - loss: 0.0024\n",
            "Epoch 39/150\n",
            "2/2 [==============================] - 4s 2s/step - loss: 0.0026\n",
            "Epoch 40/150\n",
            "2/2 [==============================] - 5s 2s/step - loss: 0.0027\n",
            "Epoch 41/150\n",
            "2/2 [==============================] - 3s 2s/step - loss: 0.0024\n",
            "Epoch 42/150\n",
            "2/2 [==============================] - 4s 3s/step - loss: 0.0024\n",
            "Epoch 43/150\n",
            "2/2 [==============================] - 3s 2s/step - loss: 0.0025\n",
            "Epoch 44/150\n",
            "2/2 [==============================] - 3s 2s/step - loss: 0.0027\n",
            "Epoch 45/150\n",
            "2/2 [==============================] - 3s 2s/step - loss: 0.0026\n",
            "Epoch 46/150\n",
            "2/2 [==============================] - 3s 2s/step - loss: 0.0024\n",
            "Epoch 47/150\n",
            "2/2 [==============================] - 3s 2s/step - loss: 0.0026\n",
            "Epoch 48/150\n",
            "2/2 [==============================] - 4s 2s/step - loss: 0.0023\n",
            "Epoch 49/150\n",
            "2/2 [==============================] - 4s 2s/step - loss: 0.0024\n",
            "Epoch 50/150\n",
            "2/2 [==============================] - 4s 2s/step - loss: 0.0025\n",
            "Epoch 51/150\n",
            "2/2 [==============================] - 3s 2s/step - loss: 0.0026\n",
            "Epoch 52/150\n",
            "2/2 [==============================] - 4s 2s/step - loss: 0.0025\n",
            "Epoch 53/150\n",
            "2/2 [==============================] - 3s 2s/step - loss: 0.0025\n",
            "Epoch 54/150\n",
            "2/2 [==============================] - 3s 2s/step - loss: 0.0024\n",
            "Epoch 55/150\n",
            "2/2 [==============================] - 3s 2s/step - loss: 0.0023\n",
            "Epoch 56/150\n",
            "2/2 [==============================] - 3s 2s/step - loss: 0.0024\n",
            "Epoch 57/150\n",
            "2/2 [==============================] - 3s 2s/step - loss: 0.0025\n",
            "Epoch 58/150\n",
            "2/2 [==============================] - 4s 2s/step - loss: 0.0023\n",
            "Epoch 59/150\n",
            "2/2 [==============================] - 3s 2s/step - loss: 0.0024\n",
            "Epoch 60/150\n",
            "2/2 [==============================] - 3s 2s/step - loss: 0.0024\n",
            "Epoch 61/150\n",
            "2/2 [==============================] - 3s 2s/step - loss: 0.0027\n",
            "Epoch 62/150\n",
            "2/2 [==============================] - 3s 2s/step - loss: 0.0023\n",
            "Epoch 63/150\n",
            "2/2 [==============================] - 3s 2s/step - loss: 0.0026\n",
            "Epoch 64/150\n",
            "2/2 [==============================] - 3s 2s/step - loss: 0.0025\n",
            "Epoch 65/150\n",
            "2/2 [==============================] - 3s 2s/step - loss: 0.0024\n",
            "Epoch 66/150\n",
            "2/2 [==============================] - 3s 2s/step - loss: 0.0025\n",
            "Epoch 67/150\n",
            "2/2 [==============================] - 3s 2s/step - loss: 0.0027\n",
            "Epoch 68/150\n",
            "2/2 [==============================] - 3s 2s/step - loss: 0.0023\n",
            "Epoch 69/150\n",
            "2/2 [==============================] - 3s 2s/step - loss: 0.0023\n",
            "Epoch 70/150\n",
            "2/2 [==============================] - 3s 2s/step - loss: 0.0023\n",
            "Epoch 71/150\n",
            "2/2 [==============================] - 3s 2s/step - loss: 0.0024\n",
            "Epoch 72/150\n",
            "2/2 [==============================] - 4s 2s/step - loss: 0.0025\n",
            "Epoch 73/150\n",
            "2/2 [==============================] - 4s 2s/step - loss: 0.0023\n",
            "Epoch 74/150\n",
            "2/2 [==============================] - 3s 2s/step - loss: 0.0023\n",
            "Epoch 75/150\n",
            "2/2 [==============================] - 4s 2s/step - loss: 0.0023\n",
            "Epoch 76/150\n",
            "2/2 [==============================] - 3s 2s/step - loss: 0.0022\n",
            "Epoch 77/150\n",
            "2/2 [==============================] - 3s 2s/step - loss: 0.0022\n",
            "Epoch 78/150\n",
            "2/2 [==============================] - 3s 2s/step - loss: 0.0022\n",
            "Epoch 79/150\n",
            "2/2 [==============================] - 3s 2s/step - loss: 0.0024\n",
            "Epoch 80/150\n",
            "2/2 [==============================] - 3s 2s/step - loss: 0.0022\n",
            "Epoch 81/150\n",
            "2/2 [==============================] - 4s 2s/step - loss: 0.0025\n",
            "Epoch 82/150\n",
            "2/2 [==============================] - 3s 2s/step - loss: 0.0023\n",
            "Epoch 83/150\n",
            "2/2 [==============================] - 3s 2s/step - loss: 0.0024\n",
            "Epoch 84/150\n",
            "2/2 [==============================] - 3s 2s/step - loss: 0.0024\n",
            "Epoch 85/150\n",
            "2/2 [==============================] - 3s 2s/step - loss: 0.0024\n",
            "Epoch 86/150\n",
            "2/2 [==============================] - 3s 2s/step - loss: 0.0022\n",
            "Epoch 87/150\n",
            "2/2 [==============================] - 3s 2s/step - loss: 0.0025\n",
            "Epoch 88/150\n",
            "2/2 [==============================] - 3s 2s/step - loss: 0.0024\n",
            "Epoch 89/150\n",
            "2/2 [==============================] - 3s 2s/step - loss: 0.0025\n",
            "Epoch 90/150\n",
            "2/2 [==============================] - 3s 2s/step - loss: 0.0022\n",
            "Epoch 91/150\n",
            "2/2 [==============================] - 3s 2s/step - loss: 0.0021\n",
            "Epoch 92/150\n",
            "2/2 [==============================] - 4s 2s/step - loss: 0.0024\n",
            "Epoch 93/150\n",
            "2/2 [==============================] - 4s 2s/step - loss: 0.0024\n",
            "Epoch 94/150\n",
            "2/2 [==============================] - 3s 2s/step - loss: 0.0026\n",
            "Epoch 95/150\n",
            "2/2 [==============================] - 4s 2s/step - loss: 0.0024\n",
            "Epoch 96/150\n",
            "2/2 [==============================] - 3s 2s/step - loss: 0.0023\n",
            "Epoch 97/150\n",
            "2/2 [==============================] - 3s 2s/step - loss: 0.0026\n",
            "Epoch 98/150\n",
            "2/2 [==============================] - 3s 2s/step - loss: 0.0026\n",
            "Epoch 99/150\n",
            "2/2 [==============================] - 3s 2s/step - loss: 0.0023\n",
            "Epoch 100/150\n",
            "2/2 [==============================] - 3s 2s/step - loss: 0.0024\n",
            "Epoch 101/150\n",
            "2/2 [==============================] - 3s 2s/step - loss: 0.0021\n",
            "Epoch 102/150\n",
            "2/2 [==============================] - 3s 2s/step - loss: 0.0025\n",
            "Epoch 103/150\n",
            "2/2 [==============================] - 3s 2s/step - loss: 0.0023\n",
            "Epoch 104/150\n",
            "2/2 [==============================] - 3s 2s/step - loss: 0.0025\n",
            "Epoch 105/150\n",
            "2/2 [==============================] - 3s 2s/step - loss: 0.0025\n",
            "Epoch 106/150\n",
            "2/2 [==============================] - 3s 2s/step - loss: 0.0024\n",
            "Epoch 107/150\n",
            "2/2 [==============================] - 3s 2s/step - loss: 0.0025\n",
            "Epoch 108/150\n",
            "2/2 [==============================] - 3s 2s/step - loss: 0.0022\n",
            "Epoch 109/150\n",
            "2/2 [==============================] - 3s 2s/step - loss: 0.0024\n",
            "Epoch 110/150\n",
            "2/2 [==============================] - 3s 2s/step - loss: 0.0023\n",
            "Epoch 111/150\n",
            "2/2 [==============================] - 3s 2s/step - loss: 0.0024\n",
            "Epoch 112/150\n",
            "2/2 [==============================] - 3s 2s/step - loss: 0.0022\n",
            "Epoch 113/150\n",
            "2/2 [==============================] - 5s 3s/step - loss: 0.0023\n",
            "Epoch 114/150\n",
            "2/2 [==============================] - 4s 2s/step - loss: 0.0022\n",
            "Epoch 115/150\n",
            "2/2 [==============================] - 3s 2s/step - loss: 0.0023\n",
            "Epoch 116/150\n",
            "2/2 [==============================] - 3s 2s/step - loss: 0.0022\n",
            "Epoch 117/150\n",
            "2/2 [==============================] - 3s 2s/step - loss: 0.0024\n",
            "Epoch 118/150\n",
            "2/2 [==============================] - 4s 2s/step - loss: 0.0022\n",
            "Epoch 119/150\n",
            "2/2 [==============================] - 3s 2s/step - loss: 0.0025\n",
            "Epoch 120/150\n",
            "2/2 [==============================] - 3s 2s/step - loss: 0.0023\n",
            "Epoch 121/150\n",
            "2/2 [==============================] - 3s 2s/step - loss: 0.0024\n",
            "Epoch 122/150\n",
            "2/2 [==============================] - 3s 2s/step - loss: 0.0023\n",
            "Epoch 123/150\n",
            "2/2 [==============================] - 3s 2s/step - loss: 0.0021\n",
            "Epoch 124/150\n",
            "2/2 [==============================] - 3s 2s/step - loss: 0.0023\n",
            "Epoch 125/150\n",
            "2/2 [==============================] - 3s 2s/step - loss: 0.0024\n",
            "Epoch 126/150\n",
            "2/2 [==============================] - 3s 2s/step - loss: 0.0023\n",
            "Epoch 127/150\n",
            "2/2 [==============================] - 3s 2s/step - loss: 0.0024\n",
            "Epoch 128/150\n",
            "2/2 [==============================] - 3s 2s/step - loss: 0.0022\n",
            "Epoch 129/150\n",
            "2/2 [==============================] - 3s 2s/step - loss: 0.0026\n",
            "Epoch 130/150\n",
            "2/2 [==============================] - 3s 2s/step - loss: 0.0025\n",
            "Epoch 131/150\n",
            "2/2 [==============================] - 3s 2s/step - loss: 0.0025\n",
            "Epoch 132/150\n",
            "2/2 [==============================] - 3s 2s/step - loss: 0.0024\n",
            "Epoch 133/150\n",
            "2/2 [==============================] - 3s 2s/step - loss: 0.0024\n",
            "Epoch 134/150\n",
            "2/2 [==============================] - 3s 2s/step - loss: 0.0020\n",
            "Epoch 135/150\n",
            "2/2 [==============================] - 3s 2s/step - loss: 0.0023\n",
            "Epoch 136/150\n",
            "2/2 [==============================] - 3s 2s/step - loss: 0.0024\n",
            "Epoch 137/150\n",
            "2/2 [==============================] - 3s 2s/step - loss: 0.0025\n",
            "Epoch 138/150\n",
            "2/2 [==============================] - 3s 2s/step - loss: 0.0021\n",
            "Epoch 139/150\n",
            "2/2 [==============================] - 3s 2s/step - loss: 0.0023\n",
            "Epoch 140/150\n",
            "2/2 [==============================] - 3s 2s/step - loss: 0.0025\n",
            "Epoch 141/150\n",
            "2/2 [==============================] - 3s 2s/step - loss: 0.0023\n",
            "Epoch 142/150\n",
            "2/2 [==============================] - 4s 2s/step - loss: 0.0023\n",
            "Epoch 143/150\n",
            "2/2 [==============================] - 3s 2s/step - loss: 0.0023\n",
            "Epoch 144/150\n",
            "2/2 [==============================] - 3s 2s/step - loss: 0.0022\n",
            "Epoch 145/150\n",
            "2/2 [==============================] - 3s 2s/step - loss: 0.0021\n",
            "Epoch 146/150\n",
            "2/2 [==============================] - 3s 2s/step - loss: 0.0024\n",
            "Epoch 147/150\n",
            "2/2 [==============================] - 3s 2s/step - loss: 0.0023\n",
            "Epoch 148/150\n",
            "2/2 [==============================] - 3s 2s/step - loss: 0.0024\n",
            "Epoch 149/150\n",
            "2/2 [==============================] - 3s 2s/step - loss: 0.0023\n",
            "Epoch 150/150\n",
            "2/2 [==============================] - 3s 2s/step - loss: 0.0022\n"
          ]
        },
        {
          "output_type": "execute_result",
          "data": {
            "text/plain": [
              "<keras.callbacks.History at 0x7f9e06fdb450>"
            ]
          },
          "metadata": {},
          "execution_count": 21
        }
      ],
      "source": [
        "regressor.fit(X_train, y_train, epochs = 150, batch_size = 128)"
      ]
    },
    {
      "cell_type": "markdown",
      "metadata": {
        "id": "gwpyImwA3yon"
      },
      "source": [
        "## Part 3 - Making predictions and analyzing the results"
      ]
    },
    {
      "cell_type": "markdown",
      "metadata": {
        "id": "wkXRvDjT4V-B"
      },
      "source": [
        "### Test base"
      ]
    },
    {
      "cell_type": "code",
      "execution_count": null,
      "metadata": {
        "id": "Bn_n72dh30K-"
      },
      "outputs": [],
      "source": [
        "dataset_test = test\n",
        "test_pul = dataset_test.iloc[:, 2:3].values"
      ]
    },
    {
      "cell_type": "markdown",
      "metadata": {
        "id": "EOo84exH4bfs"
      },
      "source": [
        "### Build the framework for testing"
      ]
    },
    {
      "cell_type": "code",
      "execution_count": null,
      "metadata": {
        "id": "ob_-mGA_B5px"
      },
      "outputs": [],
      "source": [
        "dataset_total = pd.concat((dataset_train.iloc[:,2], dataset_test.iloc[:,2]), axis = 0)\n",
        "\n",
        "testLength = len(dataset_test)\n",
        "inputs = dataset_total[len(dataset_total) - testLength - window:].values\n",
        "inputs = inputs.reshape(inputs.shape[0],1)\n",
        "\n",
        "inputs = sc.transform(inputs)\n",
        "X_test = []\n",
        "for i in range(window, inputs.shape[0]):\n",
        "    X_test.append(inputs[i-window:i, 0])\n",
        "X_test = np.array(X_test)\n",
        "\n",
        "X_test = np.reshape(X_test, (X_test.shape[0], X_test.shape[1], 1))"
      ]
    },
    {
      "cell_type": "markdown",
      "metadata": {
        "id": "rtkB4NA74e1B"
      },
      "source": [
        "### Make the predictions\n"
      ]
    },
    {
      "cell_type": "code",
      "execution_count": null,
      "metadata": {
        "id": "nKIq1h-E4g9Z"
      },
      "outputs": [],
      "source": [
        "predicted = regressor.predict(X_test)\n",
        "regressor.save_weights('weightsfile_lstm.h5')\n",
        "#existingModel.load_weights('weightsfile.h5')\n",
        "predicted = sc.inverse_transform(predicted)"
      ]
    },
    {
      "cell_type": "code",
      "execution_count": null,
      "metadata": {
        "id": "whWS4bp6SbjG"
      },
      "outputs": [],
      "source": [
        "# print(len(predictions))\n",
        "# print(predictions.shape)"
      ]
    },
    {
      "cell_type": "code",
      "execution_count": null,
      "metadata": {
        "id": "V9hjqenMTnBp"
      },
      "outputs": [],
      "source": [
        "# x = np.arange(test_size)"
      ]
    },
    {
      "cell_type": "code",
      "source": [],
      "metadata": {
        "id": "f286OT1ZVyio"
      },
      "execution_count": null,
      "outputs": []
    },
    {
      "cell_type": "markdown",
      "metadata": {
        "id": "guvk7yXr4o0g"
      },
      "source": [
        "### Visualization of training and test results"
      ]
    },
    {
      "cell_type": "code",
      "execution_count": null,
      "metadata": {
        "id": "QZYy5UtjTmV0"
      },
      "outputs": [],
      "source": [
        "# plt.title('Time slot vs mobile traffic')\n",
        "# plt.ylabel('Internet traffic')\n",
        "# plt.grid(True)\n",
        "# plt.autoscale(axis='x', tight=True)\n",
        "# plt.plot(test)\n",
        "# plt.plot(x,predictions)\n",
        "# plt.show()"
      ]
    },
    {
      "cell_type": "code",
      "execution_count": null,
      "metadata": {
        "id": "tstXl2oS4rIo",
        "colab": {
          "base_uri": "https://localhost:8080/",
          "height": 561
        },
        "outputId": "eaccb809-a77e-4382-c187-cafd5fef4f33"
      },
      "outputs": [
        {
          "output_type": "display_data",
          "data": {
            "text/plain": [
              "<Figure size 432x288 with 1 Axes>"
            ],
            "image/png": "[encoded data removed]"
          },
          "metadata": {
            "needs_background": "light"
          }
        },
        {
          "output_type": "execute_result",
          "data": {
            "text/plain": [
              "<matplotlib.collections.PolyCollection at 0x7f9e06cf9650>"
            ]
          },
          "metadata": {},
          "execution_count": 28
        },
        {
          "output_type": "display_data",
          "data": {
            "text/plain": [
              "<Figure size 432x288 with 1 Axes>"
            ],
            "image/png": "[encoded data removed]"
          },
          "metadata": {
            "needs_background": "light"
          }
        }
      ],
      "source": [
        "allTargetData = np.vstack((training_set, test_pul))\n",
        "training_predicted = regressor.predict(X_train)\n",
        "training_predicted = sc.inverse_transform(training_predicted)\n",
        "allForecastedData = np.vstack((training_set[0:window], training_predicted, predicted))\n",
        "plt.plot(allTargetData, color = 'red', label = 'Data')\n",
        "plt.plot(allForecastedData, color = 'blue', label = 'Prediction')\n",
        "plt.xlabel(\"Time\")\n",
        "plt.ylabel(\"Internet\")\n",
        "plt.title(\"Time Series Prediction\")\n",
        "plt.legend()\n",
        "plt.savefig('predictions_training_test.svg')\n",
        "plt.show()\n",
        "\n",
        "from matplotlib import pyplot as plt\n",
        "import numpy as np\n",
        "\n",
        "#some example data\n",
        "x = np.arange(test_size)\n",
        "# plt.title('Time slot vs mobile traffic')\n",
        "# plt.ylabel('Internet traffic')\n",
        "# plt.grid(True)\n",
        "# plt.autoscale(axis='x', tight=True)\n",
        "# plt.plot(test)\n",
        "# plt.plot(x,predictions)\n",
        "# plt.show()\n",
        "y = predicted.reshape(-1,)\n",
        "#some confidence interval\n",
        "ci = 1.96 * np.std(predicted)/np.sqrt(len(x))\n",
        "\n",
        "fig, ax = plt.subplots()\n",
        "ax.plot(x,test_pul.reshape(-1,),'r')\n",
        "ax.plot(x,y, 'b')\n",
        "ax.fill_between(x, (y-ci), (y+ci), color='b', alpha=.1)"
      ]
    },
    {
      "cell_type": "markdown",
      "metadata": {
        "id": "ytEVhQht4we3"
      },
      "source": [
        "## Part 4 - Evaluation Metrics\n"
      ]
    },
    {
      "cell_type": "code",
      "execution_count": null,
      "metadata": {
        "id": "rqOonVj64ydu",
        "colab": {
          "base_uri": "https://localhost:8080/"
        },
        "outputId": "563ef7db-ff1f-45bd-bb0d-162c74fc39b4"
      },
      "outputs": [
        {
          "output_type": "stream",
          "name": "stdout",
          "text": [
            "RMSE:  288.41399925845394\n"
          ]
        }
      ],
      "source": [
        "rmse = math.sqrt(mean_squared_error(test_pul, predicted))\n",
        "print('RMSE: ', rmse)"
      ]
    },
    {
      "cell_type": "code",
      "execution_count": null,
      "metadata": {
        "id": "ODeley1K42WW",
        "colab": {
          "base_uri": "https://localhost:8080/"
        },
        "outputId": "2c8c0e8f-100c-4c2c-cc00-e65d22398696"
      },
      "outputs": [
        {
          "output_type": "stream",
          "name": "stdout",
          "text": [
            "MSE:  83182.63496825546\n"
          ]
        }
      ],
      "source": [
        "mse = mean_squared_error(test_pul, predicted)\n",
        "print('MSE: ',mse)"
      ]
    },
    {
      "cell_type": "code",
      "execution_count": null,
      "metadata": {
        "id": "L7_uU_8T44QA",
        "colab": {
          "base_uri": "https://localhost:8080/"
        },
        "outputId": "de73f89d-47af-4d69-a1b2-c4b28223388e"
      },
      "outputs": [
        {
          "output_type": "stream",
          "name": "stdout",
          "text": [
            "MAPE:  18.228370221030453 %\n"
          ]
        }
      ],
      "source": [
        "mape = np.mean(np.abs((test_pul - predicted) / test_pul)) * 100\n",
        "print('MAPE: ',mape, '%')"
      ]
    },
    {
      "cell_type": "code",
      "execution_count": null,
      "metadata": {
        "id": "mgmtdSOq7rG0",
        "colab": {
          "base_uri": "https://localhost:8080/"
        },
        "outputId": "d4bfc55c-1eae-405b-fbdd-bd7c2f0a1e64"
      },
      "outputs": [
        {
          "output_type": "stream",
          "name": "stdout",
          "text": [
            "MAE:  191.78480603280082\n"
          ]
        }
      ],
      "source": [
        "mae = mean_absolute_error(test_pul, predicted)\n",
        "print('MAE: ',mae)"
      ]
    },
    {
      "cell_type": "markdown",
      "metadata": {
        "id": "41RYx-Ds328e"
      },
      "source": [
        "### Statistics of the test results."
      ]
    },
    {
      "cell_type": "code",
      "execution_count": null,
      "metadata": {
        "id": "IIJ7oEuf33Sx",
        "colab": {
          "base_uri": "https://localhost:8080/"
        },
        "outputId": "a08bc425-69d9-4f76-c5aa-328cff834aa3"
      },
      "outputs": [
        {
          "output_type": "stream",
          "name": "stdout",
          "text": [
            "Total violations: [75] (39.06% of the test data points)\n"
          ]
        }
      ],
      "source": [
        "# Fraction of under-estimated demands\n",
        "violated = (predicted < test_pul)\n",
        "violations = (test_pul - predicted)[violated]\n",
        "print('Total violations:', sum(violated), '(%.2f%% of the test data points)' % (100*sum(violated)/test_size) )"
      ]
    },
    {
      "cell_type": "code",
      "execution_count": null,
      "metadata": {
        "id": "0GOut1su39SM",
        "colab": {
          "base_uri": "https://localhost:8080/"
        },
        "outputId": "1f19ee33-fedf-4a85-cf7b-355d0a15d921"
      },
      "outputs": [
        {
          "output_type": "stream",
          "name": "stdout",
          "text": [
            "Demand mean: 1460.177548950116\n",
            "Violation mean: 193.32225352608262\n",
            "Violation excess: 13.24%\n"
          ]
        }
      ],
      "source": [
        "print('Demand mean:', np.mean(test_pul))\n",
        "print('Violation mean:', np.mean( violations ) )\n",
        "print('Violation excess: %.2f%%' % (100 * np.mean( violations ) / np.mean(test_pul)) )"
      ]
    },
    {
      "cell_type": "code",
      "execution_count": null,
      "metadata": {
        "id": "_CQ4MY6cb7RC"
      },
      "outputs": [],
      "source": []
    }
  ],
  "metadata": {
    "accelerator": "TPU",
    "colab": {
      "provenance": []
    },
    "kernelspec": {
      "display_name": "Python 3",
      "language": "python",
      "name": "python3"
    }
  },
  "nbformat": 4,
  "nbformat_minor": 0
}
