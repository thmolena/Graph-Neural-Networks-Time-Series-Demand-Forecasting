{
 "cells": [
  {
   "cell_type": "markdown",
   "metadata": {
    "id": "bgc8yb4c2W0g"
   },
   "source": [
    "# Recurrent Neural Network - LSTM\n"
   ]
  },
  {
   "cell_type": "markdown",
   "metadata": {
    "id": "aew2N81e35Uc"
   },
   "source": [
    "## Part 1 - Data Preprocessing\n",
    "\n",
    "---\n",
    "\n"
   ]
  },
  {
   "cell_type": "markdown",
   "metadata": {
    "id": "Z0vulSxH2hHu"
   },
   "source": [
    "### Import the libraries"
   ]
  },
  {
   "cell_type": "code",
   "execution_count": 1,
   "metadata": {
    "colab": {
     "base_uri": "https://localhost:8080/"
    },
    "executionInfo": {
     "elapsed": 6865,
     "status": "ok",
     "timestamp": 1654878559866,
     "user": {
      "displayName": "T H Molena",
      "userId": "09778002966791064148"
     },
     "user_tz": 240
    },
    "id": "p2SjiqlE2O08",
    "outputId": "82a50a37-85ed-4d29-e894-e838bb007cfc"
   },
   "outputs": [
    {
     "name": "stderr",
     "output_type": "stream",
     "text": [
      "Using TensorFlow backend.\n"
     ]
    }
   ],
   "source": [
    "import numpy as np\n",
    "import matplotlib.pyplot as plt\n",
    "import pandas as pd\n",
    "\n",
    "import math\n",
    "from keras.models import Sequential\n",
    "from keras.layers import Dense, LSTM, GRU, Dropout\n",
    "from sklearn.metrics import mean_absolute_error, mean_squared_error\n",
    "from sklearn import preprocessing\n",
    "\n",
    "from keras.layers.core import Dense\n",
    "from keras.layers.recurrent import LSTM\n",
    "from keras.layers import  Dropout\n",
    "from keras import regularizers \n",
    "from keras import backend as tf\n",
    "\n",
    "import keras.backend as K\n",
    "import seaborn as sns\n",
    "from keras.callbacks import LearningRateScheduler\n",
    "from keras.callbacks import ModelCheckpoint\n",
    "from keras.layers import *\n",
    "\n",
    "\n",
    "import sys, time, random, json, pickle, itertools\n",
    "import networkx as nx\n",
    "import matplotlib\n",
    "import scipy.stats\n",
    "from sklearn.neighbors import KernelDensity\n",
    "import statsmodels.stats.correlation_tools as stm\n",
    "from scipy.stats import norm\n",
    "\n",
    "import torch, torchvision\n",
    "from sklearn.preprocessing import MinMaxScaler\n",
    "np.random.seed(12345678)"
   ]
  },
  {
   "cell_type": "markdown",
   "metadata": {
    "id": "36Q16Udt2l3W"
   },
   "source": [
    "### Import the database"
   ]
  },
  {
   "cell_type": "code",
   "execution_count": 2,
   "metadata": {
    "colab": {
     "base_uri": "https://localhost:8080/"
    },
    "executionInfo": {
     "elapsed": 24132,
     "status": "ok",
     "timestamp": 1654878583995,
     "user": {
      "displayName": "T H Molena",
      "userId": "09778002966791064148"
     },
     "user_tz": 240
    },
    "id": "or7UuAX_PgCb",
    "outputId": "fdd336e7-97a1-42d2-a4cc-01d2a515a22d"
   },
   "outputs": [],
   "source": [
    "# from google.colab import drive\n",
    "# drive.mount('/content/drive',force_remount=True)\n",
    "\n",
    "import os\n",
    "# workdir_path = '/content/drive/MyDrive/Summer 2022 RA'\n",
    "\n",
    "workdir_path = '/Users/thnguy22/Desktop/Summer 2022 RA'\n",
    "os.chdir(workdir_path)"
   ]
  },
  {
   "cell_type": "code",
   "execution_count": 3,
   "metadata": {
    "colab": {
     "base_uri": "https://localhost:8080/"
    },
    "executionInfo": {
     "elapsed": 1348,
     "status": "ok",
     "timestamp": 1654878585339,
     "user": {
      "displayName": "T H Molena",
      "userId": "09778002966791064148"
     },
     "user_tz": 240
    },
    "id": "1ivhnWxD2eEG",
    "outputId": "21d1354e-aff6-47ab-d0d7-ca439d73b340"
   },
   "outputs": [
    {
     "name": "stdout",
     "output_type": "stream",
     "text": [
      "Number of non-existent files: 0\n"
     ]
    }
   ],
   "source": [
    "# Define data files\n",
    "datadir = 'dataverse_files/'\n",
    "datafn_tmpl = datadir + 'sms-call-internet-mi-%4d-%02d-%02d.txt'\n",
    "# datafn_idxs = [ (2013, 11, i) for i in range(1,31) ]  #+ [ (2013, 12, i) for i in range(1, 32) ] + [ (2014, 1, 1) ]\n",
    "datafn_idxs = [ (2013, 11, i) for i in range(1,4) ] # + [ (2013, 12, i) for i in range(1, 32) ]# + [ (2014, 1, 1) ]\n",
    "datafns = [ datafn_tmpl % x for x in datafn_idxs ]\n",
    "print(\"Number of non-existent files:\", sum([ not os.path.exists(fn) for fn in datafns ]))\n",
    "outfn = datadir[:-1] + '-internet.csv'\n",
    "\n",
    "# dataset_train = pd.read_csv('train.csv')\n",
    "# training_set = dataset_train.iloc[:, 1:2].values #only column of the series itself"
   ]
  },
  {
   "cell_type": "code",
   "execution_count": 4,
   "metadata": {
    "executionInfo": {
     "elapsed": 3,
     "status": "ok",
     "timestamp": 1654878585340,
     "user": {
      "displayName": "T H Molena",
      "userId": "09778002966791064148"
     },
     "user_tz": 240
    },
    "id": "wkOaBKB5xuts"
   },
   "outputs": [],
   "source": [
    "# Pick the data files to index\n",
    "fns = datafns#[:10]"
   ]
  },
  {
   "cell_type": "markdown",
   "metadata": {
    "id": "fIKzwwumFPG0"
   },
   "source": [
    "### Read and Preprocess Data (Save to CSV)"
   ]
  },
  {
   "cell_type": "code",
   "execution_count": 5,
   "metadata": {
    "executionInfo": {
     "elapsed": 220178,
     "status": "ok",
     "timestamp": 1654878805516,
     "user": {
      "displayName": "T H Molena",
      "userId": "09778002966791064148"
     },
     "user_tz": 240
    },
    "id": "z12MQj__x28y"
   },
   "outputs": [],
   "source": [
    "data = pd.DataFrame()\n",
    "for fn in fns:\n",
    "    #print('Reading file ', fn, ' ...')\n",
    "    df = pd.read_csv(fn, sep=\"\\t\", header=None, names=['grid', 'time', 'country', 'sms-in', 'sms-out', 'call-in', 'call-out', 'internet'])\n",
    "    df = df[ df['country'] == 39 ].drop(columns=['country', 'sms-in', 'sms-out', 'call-in', 'call-out']).fillna(0)\n",
    "    data = pd.concat([ data, df ])\n",
    "data = data.sort_values(by=['time', 'grid']).reset_index(drop=True)"
   ]
  },
  {
   "cell_type": "code",
   "execution_count": 6,
   "metadata": {
    "colab": {
     "base_uri": "https://localhost:8080/"
    },
    "executionInfo": {
     "elapsed": 3163,
     "status": "ok",
     "timestamp": 1654878808672,
     "user": {
      "displayName": "T H Molena",
      "userId": "09778002966791064148"
     },
     "user_tz": 240
    },
    "id": "cJk5D6IXx3GS",
    "outputId": "ba9e820e-25a9-4ebd-f6f4-398df4a3b75f"
   },
   "outputs": [
    {
     "name": "stdout",
     "output_type": "stream",
     "text": [
      "# 10min slots: 432\n",
      "Mean internet: 57.00917120201619\n",
      "(Min, 5%, 25%, median, 75%, 95%, max) internet:\n",
      "(0.0, 2.8526167172814505, 10.540597408945397, 26.74073901489196, 62.783427811396095, 218.33753509712272, 7936.265379884158)\n"
     ]
    }
   ],
   "source": [
    "# Statistics of the dataset\n",
    "print(\"# 10min slots:\", len(data['time'].unique()) )\n",
    "print(\"Mean internet:\", data['internet'].mean())\n",
    "print(\"(Min, 5%, 25%, median, 75%, 95%, max) internet:\")\n",
    "print( ( data['internet'].min(), data['internet'].quantile(0.05), data['internet'].quantile(0.25), data['internet'].median(), data['internet'].quantile(0.75), data['internet'].quantile(0.95), data['internet'].max() )  )"
   ]
  },
  {
   "cell_type": "code",
   "execution_count": 7,
   "metadata": {
    "executionInfo": {
     "elapsed": 140422,
     "status": "ok",
     "timestamp": 1654878949093,
     "user": {
      "displayName": "T H Molena",
      "userId": "09778002966791064148"
     },
     "user_tz": 240
    },
    "id": "w0wDDlnMx3Lg"
   },
   "outputs": [],
   "source": [
    "data.to_csv(outfn)"
   ]
  },
  {
   "cell_type": "markdown",
   "metadata": {
    "id": "NHKE7FzDFTs7"
   },
   "source": [
    "### Load Data"
   ]
  },
  {
   "cell_type": "code",
   "execution_count": 8,
   "metadata": {
    "colab": {
     "base_uri": "https://localhost:8080/"
    },
    "executionInfo": {
     "elapsed": 50234,
     "status": "ok",
     "timestamp": 1654878999321,
     "user": {
      "displayName": "T H Molena",
      "userId": "09778002966791064148"
     },
     "user_tz": 240
    },
    "id": "efc_FSe8z9go",
    "outputId": "01e4877e-ee70-4053-87df-a752a2dd0769"
   },
   "outputs": [
    {
     "name": "stdout",
     "output_type": "stream",
     "text": [
      "# 10min slots: 432\n"
     ]
    },
    {
     "name": "stderr",
     "output_type": "stream",
     "text": [
      "/Users/thnguy22/opt/anaconda3/lib/python3.7/site-packages/numpy/lib/arraysetops.py:580: FutureWarning: elementwise comparison failed; returning scalar instead, but in the future will perform elementwise comparison\n",
      "  mask |= (ar1 == a)\n"
     ]
    }
   ],
   "source": [
    "data = pd.read_csv(outfn, index_col=0)\n",
    "print(\"# 10min slots:\", len(data['time'].unique()) )"
   ]
  },
  {
   "cell_type": "code",
   "execution_count": 9,
   "metadata": {
    "executionInfo": {
     "elapsed": 530517,
     "status": "ok",
     "timestamp": 1654879529831,
     "user": {
      "displayName": "T H Molena",
      "userId": "09778002966791064148"
     },
     "user_tz": 240
    },
    "id": "0EFoC5HKz9yV"
   },
   "outputs": [],
   "source": [
    "# Find a grid with the maximum total demand for the prediction task\n",
    "max_dmd_grid = sorted([ ( data[ data['grid']==i ]['internet'].sum(), i ) for i in range(1, 10001) ])\n",
    "max_dmd_grid = list(reversed(max_dmd_grid))\n",
    "gridx = max_dmd_grid[0][1]\n",
    "#max_dmd_grid[:30]"
   ]
  },
  {
   "cell_type": "code",
   "execution_count": 10,
   "metadata": {
    "executionInfo": {
     "elapsed": 15,
     "status": "ok",
     "timestamp": 1654879529832,
     "user": {
      "displayName": "T H Molena",
      "userId": "09778002966791064148"
     },
     "user_tz": 240
    },
    "id": "UmfS_pv2z-BO"
   },
   "outputs": [],
   "source": [
    "datax = data[ data['grid'] == gridx ].reset_index(drop=True)"
   ]
  },
  {
   "cell_type": "code",
   "execution_count": 11,
   "metadata": {
    "colab": {
     "base_uri": "https://localhost:8080/",
     "height": 282
    },
    "executionInfo": {
     "elapsed": 1367,
     "status": "ok",
     "timestamp": 1654879531189,
     "user": {
      "displayName": "T H Molena",
      "userId": "09778002966791064148"
     },
     "user_tz": 240
    },
    "id": "EArHjiRKDQfU",
    "outputId": "47071d35-a73b-4e5d-86f5-7c4a91c76cd4"
   },
   "outputs": [
    {
     "data": {
      "text/plain": [
       "<matplotlib.axes._subplots.AxesSubplot at 0x7fdadfc86350>"
      ]
     },
     "execution_count": 11,
     "metadata": {},
     "output_type": "execute_result"
    }
   ],
   "source": [
    "# Plot the data\n",
    "datax['internet'].plot()"
   ]
  },
  {
   "cell_type": "markdown",
   "metadata": {
    "id": "kDWi2tKPowq5"
   },
   "source": [
    "### Learning and Prediction"
   ]
  },
  {
   "cell_type": "markdown",
   "metadata": {
    "id": "hqFSFJV0FqV4"
   },
   "source": [
    "### Preparing data"
   ]
  },
  {
   "cell_type": "code",
   "execution_count": 12,
   "metadata": {
    "colab": {
     "base_uri": "https://localhost:8080/"
    },
    "executionInfo": {
     "elapsed": 19,
     "status": "ok",
     "timestamp": 1654879531189,
     "user": {
      "displayName": "T H Molena",
      "userId": "09778002966791064148"
     },
     "user_tz": 240
    },
    "id": "JJ3J07dWFso3",
    "outputId": "91a2bca7-b76b-4521-dc38-d5ab58586a3e"
   },
   "outputs": [
    {
     "name": "stdout",
     "output_type": "stream",
     "text": [
      "Train size: 288 Test size: 144\n"
     ]
    }
   ],
   "source": [
    "# Parameters\n",
    "total_size = len(datax.index)\n",
    "train_size = int(total_size * 2 / 3)\n",
    "test_size = total_size - train_size\n",
    "print(\"Train size:\", train_size, \"Test size:\", test_size)"
   ]
  },
  {
   "cell_type": "markdown",
   "metadata": {},
   "source": [
    "### Train/test split"
   ]
  },
  {
   "cell_type": "code",
   "execution_count": 13,
   "metadata": {
    "executionInfo": {
     "elapsed": 15,
     "status": "ok",
     "timestamp": 1654879531190,
     "user": {
      "displayName": "T H Molena",
      "userId": "09778002966791064148"
     },
     "user_tz": 240
    },
    "id": "vFYH9SMrFsxX"
   },
   "outputs": [],
   "source": [
    "train = datax[:train_size]\n",
    "test = datax[train_size:]\n",
    "\n",
    "train_size=len(train)\n",
    "test_size = len(test)\n",
    "\n",
    "dataset_train = train\n",
    "training_set = dataset_train.iloc[:, 2:3].values\n"
   ]
  },
  {
   "cell_type": "markdown",
   "metadata": {
    "id": "kd39T1zK2ql1"
   },
   "source": [
    "### Time Series Graph"
   ]
  },
  {
   "cell_type": "code",
   "execution_count": 14,
   "metadata": {
    "colab": {
     "base_uri": "https://localhost:8080/",
     "height": 295
    },
    "executionInfo": {
     "elapsed": 15,
     "status": "ok",
     "timestamp": 1654879531190,
     "user": {
      "displayName": "T H Molena",
      "userId": "09778002966791064148"
     },
     "user_tz": 240
    },
    "id": "vMsAFuya2rhr",
    "outputId": "6ba3da2d-c3fe-441a-c76b-2cc96b5a0101"
   },
   "outputs": [
    {
     "data": {
      "image/png": "[encoded data removed]",
      "text/plain": [
       "<Figure size 640x480 with 1 Axes>"
      ]
     },
     "metadata": {},
     "output_type": "display_data"
    }
   ],
   "source": [
    "plt.plot(training_set)\n",
    "plt.xlabel(\"Time\")\n",
    "plt.ylabel(\"Internet\")\n",
    "plt.title(\"Time Series Graph\")\n",
    "plt.show()"
   ]
  },
  {
   "cell_type": "markdown",
   "metadata": {
    "id": "7p1F7HdB2uJU"
   },
   "source": [
    "### Normalization\n",
    "\n"
   ]
  },
  {
   "cell_type": "code",
   "execution_count": 15,
   "metadata": {
    "executionInfo": {
     "elapsed": 13,
     "status": "ok",
     "timestamp": 1654879531190,
     "user": {
      "displayName": "T H Molena",
      "userId": "09778002966791064148"
     },
     "user_tz": 240
    },
    "id": "foeHRZr-2u-L"
   },
   "outputs": [],
   "source": [
    "from sklearn.preprocessing import MinMaxScaler\n",
    "sc = MinMaxScaler(feature_range = (0, 1))\n",
    "training_set_scaled = sc.fit_transform(training_set)"
   ]
  },
  {
   "cell_type": "markdown",
   "metadata": {
    "id": "uQP8Q7MI21Y9"
   },
   "source": [
    "### Create the data structure with window 15 and output 1"
   ]
  },
  {
   "cell_type": "code",
   "execution_count": 16,
   "metadata": {
    "executionInfo": {
     "elapsed": 13,
     "status": "ok",
     "timestamp": 1654879531190,
     "user": {
      "displayName": "T H Molena",
      "userId": "09778002966791064148"
     },
     "user_tz": 240
    },
    "id": "C6Ge9ql922cb"
   },
   "outputs": [],
   "source": [
    "window = 8\n",
    "trainSize = len(training_set_scaled)\n",
    "X_train = []\n",
    "y_train = []\n",
    "for i in range(window, trainSize):\n",
    "    X_train.append(training_set_scaled[i-window:i, 0])\n",
    "    y_train.append(training_set_scaled[i, 0])\n",
    "X_train, y_train = np.array(X_train), np.array(y_train)"
   ]
  },
  {
   "cell_type": "markdown",
   "metadata": {
    "id": "LPBC2LoG24dU"
   },
   "source": [
    "### Reshaping"
   ]
  },
  {
   "cell_type": "code",
   "execution_count": 17,
   "metadata": {
    "colab": {
     "base_uri": "https://localhost:8080/"
    },
    "executionInfo": {
     "elapsed": 13,
     "status": "ok",
     "timestamp": 1654879531191,
     "user": {
      "displayName": "T H Molena",
      "userId": "09778002966791064148"
     },
     "user_tz": 240
    },
    "id": "oGwgQUDbdmnS",
    "outputId": "0384f34e-07d2-49db-8dd8-a762999ff9b7"
   },
   "outputs": [
    {
     "data": {
      "text/plain": [
       "(280, 8)"
      ]
     },
     "execution_count": 17,
     "metadata": {},
     "output_type": "execute_result"
    }
   ],
   "source": [
    "X_train.shape"
   ]
  },
  {
   "cell_type": "code",
   "execution_count": 18,
   "metadata": {
    "executionInfo": {
     "elapsed": 10,
     "status": "ok",
     "timestamp": 1654879531191,
     "user": {
      "displayName": "T H Molena",
      "userId": "09778002966791064148"
     },
     "user_tz": 240
    },
    "id": "b9ZfLlGH25fr"
   },
   "outputs": [],
   "source": [
    "X_train = np.reshape(X_train, (X_train.shape[0], X_train.shape[1], 1))"
   ]
  },
  {
   "cell_type": "code",
   "execution_count": 19,
   "metadata": {
    "colab": {
     "base_uri": "https://localhost:8080/"
    },
    "executionInfo": {
     "elapsed": 9,
     "status": "ok",
     "timestamp": 1654879531191,
     "user": {
      "displayName": "T H Molena",
      "userId": "09778002966791064148"
     },
     "user_tz": 240
    },
    "id": "RxU0axM9diHO",
    "outputId": "3118b8a7-a287-4f18-d24e-cfb30eaaa56c"
   },
   "outputs": [
    {
     "data": {
      "text/plain": [
       "(280, 8, 1)"
      ]
     },
     "execution_count": 19,
     "metadata": {},
     "output_type": "execute_result"
    }
   ],
   "source": [
    "X_train.shape"
   ]
  },
  {
   "cell_type": "markdown",
   "metadata": {
    "id": "fZhjp7Tf282b"
   },
   "source": [
    "## Part 2 - Construction of the RNN"
   ]
  },
  {
   "cell_type": "markdown",
   "metadata": {
    "id": "kordpD0_3H7b"
   },
   "source": [
    "### Construction of the complete network"
   ]
  },
  {
   "cell_type": "code",
   "execution_count": 20,
   "metadata": {
    "colab": {
     "base_uri": "https://localhost:8080/"
    },
    "executionInfo": {
     "elapsed": 14482,
     "status": "ok",
     "timestamp": 1654879545665,
     "user": {
      "displayName": "T H Molena",
      "userId": "09778002966791064148"
     },
     "user_tz": 240
    },
    "id": "EskB17uo3Iso",
    "outputId": "12cc2e45-bf9f-4c1a-d5b7-f9f2a580c289"
   },
   "outputs": [
    {
     "name": "stdout",
     "output_type": "stream",
     "text": [
      "Model: \"sequential_1\"\n",
      "_________________________________________________________________\n",
      "Layer (type)                 Output Shape              Param #   \n",
      "=================================================================\n",
      "gru_1 (GRU)                  (None, 8, 288)            250560    \n",
      "_________________________________________________________________\n",
      "dropout_1 (Dropout)          (None, 8, 288)            0         \n",
      "_________________________________________________________________\n",
      "gru_2 (GRU)                  (None, 8)                 7128      \n",
      "_________________________________________________________________\n",
      "dropout_2 (Dropout)          (None, 8)                 0         \n",
      "_________________________________________________________________\n",
      "dense_1 (Dense)              (None, 1)                 9         \n",
      "=================================================================\n",
      "Total params: 257,697\n",
      "Trainable params: 257,697\n",
      "Non-trainable params: 0\n",
      "_________________________________________________________________\n"
     ]
    }
   ],
   "source": [
    "# Initialize the RNN\n",
    "model = Sequential()\n",
    "\n",
    "# Add the first LSTM layer and Dropout \n",
    "model.add(GRU(units = len(train), return_sequences = True, input_shape = (X_train.shape[1], 1)))\n",
    "model.add(Dropout(0.1))\n",
    " \n",
    "# # Add the second LSTM layer and Dropout\n",
    "# model.add(GRU(units = window, return_sequences = True))\n",
    "# model.add(Dropout(0.2))\n",
    "\n",
    "# Add the second LSTM layer and Dropout\n",
    "model.add(GRU(units = window, return_sequences = False))\n",
    "model.add(Dropout(0.1))\n",
    "\n",
    "\n",
    "# Output layer\n",
    "model.add(Dense(units = 1))\n",
    " \n",
    "# Compile the network\n",
    "model.compile(optimizer = 'adam', loss = 'mean_squared_error')\n",
    "\n",
    "# Summarize the network\n",
    "model.summary()"
   ]
  },
  {
   "cell_type": "markdown",
   "metadata": {
    "id": "5j1w28g83iSR"
   },
   "source": [
    "### Training"
   ]
  },
  {
   "cell_type": "code",
   "execution_count": 21,
   "metadata": {
    "colab": {
     "base_uri": "https://localhost:8080/"
    },
    "executionInfo": {
     "elapsed": 3265327,
     "status": "ok",
     "timestamp": 1654882810989,
     "user": {
      "displayName": "T H Molena",
      "userId": "09778002966791064148"
     },
     "user_tz": 240
    },
    "id": "xWKAuKyp3jXv",
    "outputId": "fa0d8693-66d2-4ec1-d36d-626007bf48b1"
   },
   "outputs": [
    {
     "name": "stdout",
     "output_type": "stream",
     "text": [
      "Epoch 1/150\n",
      "280/280 [==============================] - 2s 9ms/step - loss: 0.0836\n",
      "Epoch 2/150\n",
      "280/280 [==============================] - 0s 1ms/step - loss: 0.0153\n",
      "Epoch 3/150\n",
      "280/280 [==============================] - 0s 1ms/step - loss: 0.0224\n",
      "Epoch 4/150\n",
      "280/280 [==============================] - 0s 1ms/step - loss: 0.0073\n",
      "Epoch 5/150\n",
      "280/280 [==============================] - 0s 1ms/step - loss: 0.0097\n",
      "Epoch 6/150\n",
      "280/280 [==============================] - 0s 1ms/step - loss: 0.0124\n",
      "Epoch 7/150\n",
      "280/280 [==============================] - 0s 1ms/step - loss: 0.0108\n",
      "Epoch 8/150\n",
      "280/280 [==============================] - 0s 1ms/step - loss: 0.0054\n",
      "Epoch 9/150\n",
      "280/280 [==============================] - 0s 1ms/step - loss: 0.0071\n",
      "Epoch 10/150\n",
      "280/280 [==============================] - 0s 1ms/step - loss: 0.0075\n",
      "Epoch 11/150\n",
      "280/280 [==============================] - 0s 1ms/step - loss: 0.0063\n",
      "Epoch 12/150\n",
      "280/280 [==============================] - 0s 1ms/step - loss: 0.0049\n",
      "Epoch 13/150\n",
      "280/280 [==============================] - 0s 1ms/step - loss: 0.0062\n",
      "Epoch 14/150\n",
      "280/280 [==============================] - 0s 1ms/step - loss: 0.0062\n",
      "Epoch 15/150\n",
      "280/280 [==============================] - 0s 1ms/step - loss: 0.0049\n",
      "Epoch 16/150\n",
      "280/280 [==============================] - 0s 1ms/step - loss: 0.0051\n",
      "Epoch 17/150\n",
      "280/280 [==============================] - 0s 1ms/step - loss: 0.0055\n",
      "Epoch 18/150\n",
      "280/280 [==============================] - 0s 1ms/step - loss: 0.0057\n",
      "Epoch 19/150\n",
      "280/280 [==============================] - 0s 1ms/step - loss: 0.0057\n",
      "Epoch 20/150\n",
      "280/280 [==============================] - 0s 1ms/step - loss: 0.0057\n",
      "Epoch 21/150\n",
      "280/280 [==============================] - 0s 1ms/step - loss: 0.0054\n",
      "Epoch 22/150\n",
      "280/280 [==============================] - 0s 1ms/step - loss: 0.0046\n",
      "Epoch 23/150\n",
      "280/280 [==============================] - 0s 1ms/step - loss: 0.0053\n",
      "Epoch 24/150\n",
      "280/280 [==============================] - 0s 1ms/step - loss: 0.0066\n",
      "Epoch 25/150\n",
      "280/280 [==============================] - 0s 1ms/step - loss: 0.0051\n",
      "Epoch 26/150\n",
      "280/280 [==============================] - 0s 1ms/step - loss: 0.0052\n",
      "Epoch 27/150\n",
      "280/280 [==============================] - 0s 1ms/step - loss: 0.0049\n",
      "Epoch 28/150\n",
      "280/280 [==============================] - 0s 1ms/step - loss: 0.0057\n",
      "Epoch 29/150\n",
      "280/280 [==============================] - 0s 1ms/step - loss: 0.0047\n",
      "Epoch 30/150\n",
      "280/280 [==============================] - 0s 1ms/step - loss: 0.0056\n",
      "Epoch 31/150\n",
      "280/280 [==============================] - 0s 1ms/step - loss: 0.0049\n",
      "Epoch 32/150\n",
      "280/280 [==============================] - 0s 1ms/step - loss: 0.0048\n",
      "Epoch 33/150\n",
      "280/280 [==============================] - 0s 1ms/step - loss: 0.0054\n",
      "Epoch 34/150\n",
      "280/280 [==============================] - 0s 1ms/step - loss: 0.0043\n",
      "Epoch 35/150\n",
      "280/280 [==============================] - 0s 1ms/step - loss: 0.0046\n",
      "Epoch 36/150\n",
      "280/280 [==============================] - 0s 1ms/step - loss: 0.0057\n",
      "Epoch 37/150\n",
      "280/280 [==============================] - 0s 1ms/step - loss: 0.0051\n",
      "Epoch 38/150\n",
      "280/280 [==============================] - 0s 1ms/step - loss: 0.0042\n",
      "Epoch 39/150\n",
      "280/280 [==============================] - 0s 1ms/step - loss: 0.0056\n",
      "Epoch 40/150\n",
      "280/280 [==============================] - 0s 1ms/step - loss: 0.0052\n",
      "Epoch 41/150\n",
      "280/280 [==============================] - 0s 1ms/step - loss: 0.0050\n",
      "Epoch 42/150\n",
      "280/280 [==============================] - 0s 1ms/step - loss: 0.0048\n",
      "Epoch 43/150\n",
      "280/280 [==============================] - 0s 1ms/step - loss: 0.0046\n",
      "Epoch 44/150\n",
      "280/280 [==============================] - 0s 1ms/step - loss: 0.0045\n",
      "Epoch 45/150\n",
      "280/280 [==============================] - 0s 1ms/step - loss: 0.0045\n",
      "Epoch 46/150\n",
      "280/280 [==============================] - 0s 1ms/step - loss: 0.0049\n",
      "Epoch 47/150\n",
      "280/280 [==============================] - 0s 1ms/step - loss: 0.0043\n",
      "Epoch 48/150\n",
      "280/280 [==============================] - 0s 1ms/step - loss: 0.0044\n",
      "Epoch 49/150\n",
      "280/280 [==============================] - 0s 1ms/step - loss: 0.0041\n",
      "Epoch 50/150\n",
      "280/280 [==============================] - 0s 1ms/step - loss: 0.0048\n",
      "Epoch 51/150\n",
      "280/280 [==============================] - 0s 1ms/step - loss: 0.0045\n",
      "Epoch 52/150\n",
      "280/280 [==============================] - 0s 1ms/step - loss: 0.0054\n",
      "Epoch 53/150\n",
      "280/280 [==============================] - 0s 1ms/step - loss: 0.0041\n",
      "Epoch 54/150\n",
      "280/280 [==============================] - 0s 1ms/step - loss: 0.0045\n",
      "Epoch 55/150\n",
      "280/280 [==============================] - 0s 1ms/step - loss: 0.0045\n",
      "Epoch 56/150\n",
      "280/280 [==============================] - 0s 1ms/step - loss: 0.0043\n",
      "Epoch 57/150\n",
      "280/280 [==============================] - 0s 1ms/step - loss: 0.0039\n",
      "Epoch 58/150\n",
      "280/280 [==============================] - 0s 1ms/step - loss: 0.0035\n",
      "Epoch 59/150\n",
      "280/280 [==============================] - 0s 1ms/step - loss: 0.0035\n",
      "Epoch 60/150\n",
      "280/280 [==============================] - 0s 1ms/step - loss: 0.0040\n",
      "Epoch 61/150\n",
      "280/280 [==============================] - 0s 1ms/step - loss: 0.0031\n",
      "Epoch 62/150\n",
      "280/280 [==============================] - 0s 1ms/step - loss: 0.0037\n",
      "Epoch 63/150\n",
      "280/280 [==============================] - 0s 1ms/step - loss: 0.0038\n",
      "Epoch 64/150\n",
      "280/280 [==============================] - 0s 1ms/step - loss: 0.0047\n",
      "Epoch 65/150\n",
      "280/280 [==============================] - 0s 1ms/step - loss: 0.0049\n",
      "Epoch 66/150\n",
      "280/280 [==============================] - 0s 1ms/step - loss: 0.0036\n",
      "Epoch 67/150\n",
      "280/280 [==============================] - 0s 1ms/step - loss: 0.0043\n",
      "Epoch 68/150\n",
      "280/280 [==============================] - 0s 1ms/step - loss: 0.0035\n",
      "Epoch 69/150\n",
      "280/280 [==============================] - 0s 1ms/step - loss: 0.0040\n",
      "Epoch 70/150\n",
      "280/280 [==============================] - 0s 1ms/step - loss: 0.0037\n",
      "Epoch 71/150\n",
      "280/280 [==============================] - 0s 1ms/step - loss: 0.0044\n",
      "Epoch 72/150\n",
      "280/280 [==============================] - 0s 1ms/step - loss: 0.0034\n",
      "Epoch 73/150\n",
      "280/280 [==============================] - 0s 1ms/step - loss: 0.0039\n",
      "Epoch 74/150\n",
      "280/280 [==============================] - 0s 1ms/step - loss: 0.0037\n",
      "Epoch 75/150\n",
      "280/280 [==============================] - 0s 1ms/step - loss: 0.0035\n",
      "Epoch 76/150\n",
      "280/280 [==============================] - 0s 1ms/step - loss: 0.0041\n",
      "Epoch 77/150\n",
      "280/280 [==============================] - 0s 1ms/step - loss: 0.0036\n",
      "Epoch 78/150\n",
      "280/280 [==============================] - 0s 1ms/step - loss: 0.0037\n",
      "Epoch 79/150\n",
      "280/280 [==============================] - 0s 1ms/step - loss: 0.0037\n",
      "Epoch 80/150\n",
      "280/280 [==============================] - 0s 1ms/step - loss: 0.0033\n",
      "Epoch 81/150\n",
      "280/280 [==============================] - 0s 1ms/step - loss: 0.0035\n",
      "Epoch 82/150\n",
      "280/280 [==============================] - 0s 1ms/step - loss: 0.0040\n",
      "Epoch 83/150\n",
      "280/280 [==============================] - 0s 1ms/step - loss: 0.0034\n",
      "Epoch 84/150\n",
      "280/280 [==============================] - 0s 1ms/step - loss: 0.0044\n",
      "Epoch 85/150\n",
      "280/280 [==============================] - 0s 1ms/step - loss: 0.0034\n",
      "Epoch 86/150\n",
      "280/280 [==============================] - 0s 1ms/step - loss: 0.0039\n",
      "Epoch 87/150\n",
      "280/280 [==============================] - 0s 1ms/step - loss: 0.0031\n",
      "Epoch 88/150\n",
      "280/280 [==============================] - 0s 1ms/step - loss: 0.0034\n",
      "Epoch 89/150\n",
      "280/280 [==============================] - 0s 1ms/step - loss: 0.0040\n",
      "Epoch 90/150\n",
      "280/280 [==============================] - 0s 1ms/step - loss: 0.0044\n",
      "Epoch 91/150\n",
      "280/280 [==============================] - 0s 1ms/step - loss: 0.0046\n",
      "Epoch 92/150\n",
      "280/280 [==============================] - 0s 1ms/step - loss: 0.0034\n",
      "Epoch 93/150\n",
      "280/280 [==============================] - 0s 1ms/step - loss: 0.0039\n",
      "Epoch 94/150\n",
      "280/280 [==============================] - 0s 1ms/step - loss: 0.0033\n",
      "Epoch 95/150\n",
      "280/280 [==============================] - 0s 1ms/step - loss: 0.0037\n",
      "Epoch 96/150\n",
      "280/280 [==============================] - 0s 1ms/step - loss: 0.0036\n",
      "Epoch 97/150\n",
      "280/280 [==============================] - 0s 1ms/step - loss: 0.0046\n",
      "Epoch 98/150\n",
      "280/280 [==============================] - 0s 1ms/step - loss: 0.0039\n",
      "Epoch 99/150\n",
      "280/280 [==============================] - 0s 1ms/step - loss: 0.0035\n",
      "Epoch 100/150\n",
      "280/280 [==============================] - 0s 1ms/step - loss: 0.0034\n",
      "Epoch 101/150\n",
      "280/280 [==============================] - 0s 1ms/step - loss: 0.0040\n",
      "Epoch 102/150\n",
      "280/280 [==============================] - 0s 1ms/step - loss: 0.0039\n",
      "Epoch 103/150\n",
      "280/280 [==============================] - 0s 1ms/step - loss: 0.0039\n",
      "Epoch 104/150\n",
      "280/280 [==============================] - 0s 1ms/step - loss: 0.0039\n",
      "Epoch 105/150\n",
      "280/280 [==============================] - 0s 1ms/step - loss: 0.0040\n",
      "Epoch 106/150\n",
      "280/280 [==============================] - 0s 1ms/step - loss: 0.0041\n",
      "Epoch 107/150\n",
      "280/280 [==============================] - 0s 1ms/step - loss: 0.0037\n",
      "Epoch 108/150\n",
      "280/280 [==============================] - 0s 1ms/step - loss: 0.0040\n",
      "Epoch 109/150\n",
      "280/280 [==============================] - 0s 1ms/step - loss: 0.0045\n",
      "Epoch 110/150\n",
      "280/280 [==============================] - 0s 1ms/step - loss: 0.0037\n",
      "Epoch 111/150\n",
      "280/280 [==============================] - 0s 1ms/step - loss: 0.0047\n",
      "Epoch 112/150\n",
      "280/280 [==============================] - 0s 1ms/step - loss: 0.0039\n",
      "Epoch 113/150\n",
      "280/280 [==============================] - 0s 1ms/step - loss: 0.0033\n",
      "Epoch 114/150\n",
      "280/280 [==============================] - 0s 1ms/step - loss: 0.0028\n",
      "Epoch 115/150\n",
      "280/280 [==============================] - 0s 1ms/step - loss: 0.0031\n",
      "Epoch 116/150\n",
      "280/280 [==============================] - 0s 1ms/step - loss: 0.0036\n",
      "Epoch 117/150\n",
      "280/280 [==============================] - 0s 1ms/step - loss: 0.0037\n",
      "Epoch 118/150\n",
      "280/280 [==============================] - 0s 1ms/step - loss: 0.0031\n",
      "Epoch 119/150\n",
      "280/280 [==============================] - 0s 1ms/step - loss: 0.0038\n",
      "Epoch 120/150\n",
      "280/280 [==============================] - 0s 1ms/step - loss: 0.0037\n",
      "Epoch 121/150\n",
      "280/280 [==============================] - 0s 1ms/step - loss: 0.0029\n",
      "Epoch 122/150\n",
      "280/280 [==============================] - 0s 1ms/step - loss: 0.0038\n",
      "Epoch 123/150\n",
      "280/280 [==============================] - 0s 1ms/step - loss: 0.0037\n",
      "Epoch 124/150\n",
      "280/280 [==============================] - 0s 1ms/step - loss: 0.0034\n",
      "Epoch 125/150\n",
      "280/280 [==============================] - 0s 1ms/step - loss: 0.0032\n",
      "Epoch 126/150\n",
      "280/280 [==============================] - 0s 1ms/step - loss: 0.0033\n",
      "Epoch 127/150\n",
      "280/280 [==============================] - 0s 1ms/step - loss: 0.0039\n",
      "Epoch 128/150\n",
      "280/280 [==============================] - 0s 1ms/step - loss: 0.0036\n",
      "Epoch 129/150\n",
      "280/280 [==============================] - 0s 1ms/step - loss: 0.0039\n",
      "Epoch 130/150\n",
      "280/280 [==============================] - 0s 1ms/step - loss: 0.0030\n",
      "Epoch 131/150\n",
      "280/280 [==============================] - 0s 1ms/step - loss: 0.0039\n",
      "Epoch 132/150\n",
      "280/280 [==============================] - 0s 1ms/step - loss: 0.0034\n",
      "Epoch 133/150\n",
      "280/280 [==============================] - 0s 1ms/step - loss: 0.0027\n",
      "Epoch 134/150\n",
      "280/280 [==============================] - 0s 1ms/step - loss: 0.0036\n",
      "Epoch 135/150\n",
      "280/280 [==============================] - 0s 1ms/step - loss: 0.0039\n",
      "Epoch 136/150\n",
      "280/280 [==============================] - 0s 1ms/step - loss: 0.0035\n",
      "Epoch 137/150\n",
      "280/280 [==============================] - 0s 1ms/step - loss: 0.0037\n",
      "Epoch 138/150\n",
      "280/280 [==============================] - 0s 1ms/step - loss: 0.0031\n",
      "Epoch 139/150\n",
      "280/280 [==============================] - 0s 1ms/step - loss: 0.0035\n",
      "Epoch 140/150\n",
      "280/280 [==============================] - 0s 1ms/step - loss: 0.0036\n",
      "Epoch 141/150\n",
      "280/280 [==============================] - 0s 1ms/step - loss: 0.0043\n",
      "Epoch 142/150\n",
      "280/280 [==============================] - 0s 1ms/step - loss: 0.0041\n",
      "Epoch 143/150\n",
      "280/280 [==============================] - 0s 1ms/step - loss: 0.0032\n",
      "Epoch 144/150\n",
      "280/280 [==============================] - 0s 1ms/step - loss: 0.0036\n",
      "Epoch 145/150\n",
      "280/280 [==============================] - 0s 1ms/step - loss: 0.0035\n",
      "Epoch 146/150\n",
      "280/280 [==============================] - 0s 1ms/step - loss: 0.0034\n",
      "Epoch 147/150\n",
      "280/280 [==============================] - 0s 1ms/step - loss: 0.0027\n",
      "Epoch 148/150\n",
      "280/280 [==============================] - 0s 1ms/step - loss: 0.0030\n",
      "Epoch 149/150\n",
      "280/280 [==============================] - 0s 1ms/step - loss: 0.0038\n",
      "Epoch 150/150\n",
      "280/280 [==============================] - 0s 1ms/step - loss: 0.0037\n"
     ]
    },
    {
     "data": {
      "text/plain": [
       "<keras.callbacks.callbacks.History at 0x7fdab9121d50>"
      ]
     },
     "execution_count": 21,
     "metadata": {},
     "output_type": "execute_result"
    }
   ],
   "source": [
    "model.fit(X_train, y_train, epochs = 150, batch_size = 128)"
   ]
  },
  {
   "cell_type": "markdown",
   "metadata": {
    "id": "gwpyImwA3yon"
   },
   "source": [
    "## Part 3 - Making predictions and analyzing the results"
   ]
  },
  {
   "cell_type": "markdown",
   "metadata": {
    "id": "wkXRvDjT4V-B"
   },
   "source": [
    "### Test base"
   ]
  },
  {
   "cell_type": "code",
   "execution_count": 22,
   "metadata": {
    "executionInfo": {
     "elapsed": 7,
     "status": "ok",
     "timestamp": 1654882810990,
     "user": {
      "displayName": "T H Molena",
      "userId": "09778002966791064148"
     },
     "user_tz": 240
    },
    "id": "Bn_n72dh30K-"
   },
   "outputs": [],
   "source": [
    "dataset_test = test\n",
    "test_pul = dataset_test.iloc[:, 2:3].values"
   ]
  },
  {
   "cell_type": "markdown",
   "metadata": {
    "id": "EOo84exH4bfs"
   },
   "source": [
    "### Build the framework for testing"
   ]
  },
  {
   "cell_type": "code",
   "execution_count": 23,
   "metadata": {
    "executionInfo": {
     "elapsed": 5,
     "status": "ok",
     "timestamp": 1654882810990,
     "user": {
      "displayName": "T H Molena",
      "userId": "09778002966791064148"
     },
     "user_tz": 240
    },
    "id": "ob_-mGA_B5px"
   },
   "outputs": [],
   "source": [
    "dataset_total = pd.concat((dataset_train.iloc[:,2], dataset_test.iloc[:,2]), axis = 0)\n",
    "\n",
    "testLength = len(dataset_test)\n",
    "inputs = dataset_total[len(dataset_total) - testLength - window:].values\n",
    "inputs = inputs.reshape(inputs.shape[0],1)\n",
    "\n",
    "inputs = sc.transform(inputs)\n",
    "X_test = []\n",
    "for i in range(window, inputs.shape[0]): \n",
    "    X_test.append(inputs[i-window:i, 0])\n",
    "X_test = np.array(X_test)\n",
    "\n",
    "X_test = np.reshape(X_test, (X_test.shape[0], X_test.shape[1], 1))"
   ]
  },
  {
   "cell_type": "markdown",
   "metadata": {
    "id": "rtkB4NA74e1B"
   },
   "source": [
    "### Make the predictions\n"
   ]
  },
  {
   "cell_type": "code",
   "execution_count": 24,
   "metadata": {
    "executionInfo": {
     "elapsed": 6518,
     "status": "ok",
     "timestamp": 1654882817503,
     "user": {
      "displayName": "T H Molena",
      "userId": "09778002966791064148"
     },
     "user_tz": 240
    },
    "id": "nKIq1h-E4g9Z"
   },
   "outputs": [],
   "source": [
    "predicted = model.predict(X_test)\n",
    "#model.save_weights('weightsfile_gru.h5')\n",
    "#existingModel.load_weights('weightsfile.h5')\n",
    "predicted = sc.inverse_transform(predicted)"
   ]
  },
  {
   "cell_type": "code",
   "execution_count": 25,
   "metadata": {
    "executionInfo": {
     "elapsed": 334,
     "status": "ok",
     "timestamp": 1654882817816,
     "user": {
      "displayName": "T H Molena",
      "userId": "09778002966791064148"
     },
     "user_tz": 240
    },
    "id": "whWS4bp6SbjG"
   },
   "outputs": [],
   "source": [
    "# print(len(predictions))\n",
    "# print(predictions.shape)"
   ]
  },
  {
   "cell_type": "code",
   "execution_count": 26,
   "metadata": {
    "executionInfo": {
     "elapsed": 8,
     "status": "ok",
     "timestamp": 1654882817816,
     "user": {
      "displayName": "T H Molena",
      "userId": "09778002966791064148"
     },
     "user_tz": 240
    },
    "id": "V9hjqenMTnBp"
   },
   "outputs": [],
   "source": [
    "# x = np.arange(test_size)"
   ]
  },
  {
   "cell_type": "markdown",
   "metadata": {
    "id": "guvk7yXr4o0g"
   },
   "source": [
    "### Visualization of training and test results"
   ]
  },
  {
   "cell_type": "code",
   "execution_count": 27,
   "metadata": {
    "colab": {
     "base_uri": "https://localhost:8080/",
     "height": 560
    },
    "executionInfo": {
     "elapsed": 12746,
     "status": "ok",
     "timestamp": 1654882830554,
     "user": {
      "displayName": "T H Molena",
      "userId": "09778002966791064148"
     },
     "user_tz": 240
    },
    "id": "tstXl2oS4rIo",
    "outputId": "56f8b22d-fb49-443b-ef3b-c618c55a3461"
   },
   "outputs": [
    {
     "data": {
      "image/png": "[encoded data removed]",
      "text/plain": [
       "<Figure size 640x480 with 1 Axes>"
      ]
     },
     "metadata": {},
     "output_type": "display_data"
    },
    {
     "data": {
      "image/png": "[encoded data removed]",
      "text/plain": [
       "<Figure size 640x480 with 1 Axes>"
      ]
     },
     "metadata": {},
     "output_type": "display_data"
    }
   ],
   "source": [
    "allTargetData = np.vstack((training_set, test_pul))\n",
    "training_predicted = model.predict(X_train)\n",
    "training_predicted = sc.inverse_transform(training_predicted)\n",
    "allForecastedData = np.vstack((training_set[0:window], training_predicted, predicted))\n",
    "plt.plot(allTargetData, color = 'red', label = 'Data')\n",
    "plt.plot(allForecastedData, color = 'blue', label = 'Prediction')\n",
    "plt.xlabel(\"Time\")\n",
    "plt.ylabel(\"Internet\")\n",
    "plt.title(\"Time Series Prediction\")\n",
    "plt.legend()\n",
    "# plt.savefig('predictions_training_test.svg')\n",
    "plt.show()\n",
    "\n",
    "from matplotlib import pyplot as plt\n",
    "import numpy as np\n",
    "\n",
    "x = np.arange(test_size)\n",
    "y = predicted.reshape(-1,)\n",
    "ci = 1.96 * np.std(predicted)/np.sqrt(len(x))\n",
    "\n",
    "fig, ax = plt.subplots()\n",
    "# ax.plot(x,y, 'b')\n",
    "ax.plot(x, y-ci, color = 'y', label = 'lower interval')\n",
    "ax.plot(x, y+ci, 'c', label = 'upper interval')\n",
    "ax.fill_between(x, (y-ci), (y+ci), color='b', alpha=.1)\n",
    "ax.plot(x,test_pul.reshape(-1,),'r', label = 'data')\n",
    "plt.xlabel(\"Time\")\n",
    "plt.ylabel(\"Internet\")\n",
    "plt.title(\"Time Series Prediction in the testing_set\")\n",
    "plt.legend()\n",
    "plt.show()"
   ]
  },
  {
   "cell_type": "markdown",
   "metadata": {
    "id": "ytEVhQht4we3"
   },
   "source": [
    "## Part 4 - Evaluation Metrics\n"
   ]
  },
  {
   "cell_type": "code",
   "execution_count": 28,
   "metadata": {
    "colab": {
     "base_uri": "https://localhost:8080/"
    },
    "executionInfo": {
     "elapsed": 27,
     "status": "ok",
     "timestamp": 1654882830554,
     "user": {
      "displayName": "T H Molena",
      "userId": "09778002966791064148"
     },
     "user_tz": 240
    },
    "id": "rqOonVj64ydu",
    "outputId": "f1d192d7-7183-4dfb-f976-aa142603499a"
   },
   "outputs": [
    {
     "name": "stdout",
     "output_type": "stream",
     "text": [
      "RMSE:  313.02202986829155\n"
     ]
    }
   ],
   "source": [
    "rmse = math.sqrt(mean_squared_error(test_pul, predicted))\n",
    "print('RMSE: ', rmse)"
   ]
  },
  {
   "cell_type": "code",
   "execution_count": 29,
   "metadata": {
    "colab": {
     "base_uri": "https://localhost:8080/"
    },
    "executionInfo": {
     "elapsed": 24,
     "status": "ok",
     "timestamp": 1654882830555,
     "user": {
      "displayName": "T H Molena",
      "userId": "09778002966791064148"
     },
     "user_tz": 240
    },
    "id": "ODeley1K42WW",
    "outputId": "8f127c00-02f7-499a-f224-ac030c024c06"
   },
   "outputs": [
    {
     "name": "stdout",
     "output_type": "stream",
     "text": [
      "MSE:  97982.79118286562\n"
     ]
    }
   ],
   "source": [
    "mse = mean_squared_error(test_pul, predicted)\n",
    "print('MSE: ',mse)"
   ]
  },
  {
   "cell_type": "code",
   "execution_count": 30,
   "metadata": {
    "colab": {
     "base_uri": "https://localhost:8080/"
    },
    "executionInfo": {
     "elapsed": 21,
     "status": "ok",
     "timestamp": 1654882830555,
     "user": {
      "displayName": "T H Molena",
      "userId": "09778002966791064148"
     },
     "user_tz": 240
    },
    "id": "L7_uU_8T44QA",
    "outputId": "0b88262d-69f9-405d-dd3a-a55f9c18c2ee"
   },
   "outputs": [
    {
     "name": "stdout",
     "output_type": "stream",
     "text": [
      "MAPE:  31.36951249509711 %\n"
     ]
    }
   ],
   "source": [
    "mape = np.mean(np.abs((test_pul - predicted) / test_pul)) * 100\n",
    "print('MAPE: ',mape, '%')"
   ]
  },
  {
   "cell_type": "code",
   "execution_count": 31,
   "metadata": {
    "colab": {
     "base_uri": "https://localhost:8080/"
    },
    "executionInfo": {
     "elapsed": 19,
     "status": "ok",
     "timestamp": 1654882830555,
     "user": {
      "displayName": "T H Molena",
      "userId": "09778002966791064148"
     },
     "user_tz": 240
    },
    "id": "mgmtdSOq7rG0",
    "outputId": "f9f03b63-0f49-4a2c-b750-335ad1b9707c"
   },
   "outputs": [
    {
     "name": "stdout",
     "output_type": "stream",
     "text": [
      "MAE:  226.94872778015235\n"
     ]
    }
   ],
   "source": [
    "mae = mean_absolute_error(test_pul, predicted)\n",
    "print('MAE: ',mae)"
   ]
  },
  {
   "cell_type": "markdown",
   "metadata": {
    "id": "41RYx-Ds328e"
   },
   "source": [
    "### Statistics of the test results."
   ]
  },
  {
   "cell_type": "markdown",
   "metadata": {
    "id": "mcBRpaiKSlr_"
   },
   "source": [
    "### Using the mean (predicted)"
   ]
  },
  {
   "cell_type": "code",
   "execution_count": 32,
   "metadata": {
    "colab": {
     "base_uri": "https://localhost:8080/"
    },
    "executionInfo": {
     "elapsed": 18,
     "status": "ok",
     "timestamp": 1654882830555,
     "user": {
      "displayName": "T H Molena",
      "userId": "09778002966791064148"
     },
     "user_tz": 240
    },
    "id": "IIJ7oEuf33Sx",
    "outputId": "62582d50-8339-4766-a3f2-76796be96ec7"
   },
   "outputs": [
    {
     "name": "stdout",
     "output_type": "stream",
     "text": [
      "Total violations: [43] (29.86% of the test data points)\n"
     ]
    }
   ],
   "source": [
    "# Fraction of under-estimated demands using the mean (predicted)\n",
    "violated = (predicted < test_pul)\n",
    "violations = (test_pul - predicted)[violated]\n",
    "print('Total violations:', sum(violated), '(%.2f%% of the test data points)' % (100*sum(violated)/test_size) )"
   ]
  },
  {
   "cell_type": "code",
   "execution_count": 33,
   "metadata": {
    "colab": {
     "base_uri": "https://localhost:8080/"
    },
    "executionInfo": {
     "elapsed": 17,
     "status": "ok",
     "timestamp": 1654882830556,
     "user": {
      "displayName": "T H Molena",
      "userId": "09778002966791064148"
     },
     "user_tz": 240
    },
    "id": "0GOut1su39SM",
    "outputId": "e11f8343-e29b-4ba5-fa74-c0a71d241bd7"
   },
   "outputs": [
    {
     "name": "stdout",
     "output_type": "stream",
     "text": [
      "Demand mean: 1468.3849718643323\n",
      "Violation mean: 300.93227119370124\n",
      "Violation excess: 20.49%\n"
     ]
    }
   ],
   "source": [
    "print('Demand mean:', np.mean(test_pul))\n",
    "print('Violation mean:', np.mean( violations ) )\n",
    "print('Violation excess: %.2f%%' % (100 * np.mean( violations ) / np.mean(test_pul)) )"
   ]
  },
  {
   "cell_type": "code",
   "execution_count": null,
   "metadata": {
    "executionInfo": {
     "elapsed": 14,
     "status": "ok",
     "timestamp": 1654882830556,
     "user": {
      "displayName": "T H Molena",
      "userId": "09778002966791064148"
     },
     "user_tz": 240
    },
    "id": "9NPq_AlFO3pr"
   },
   "outputs": [],
   "source": []
  },
  {
   "cell_type": "code",
   "execution_count": null,
   "metadata": {
    "executionInfo": {
     "elapsed": 14,
     "status": "ok",
     "timestamp": 1654882830556,
     "user": {
      "displayName": "T H Molena",
      "userId": "09778002966791064148"
     },
     "user_tz": 240
    },
    "id": "Wi-HSdV3U_yM"
   },
   "outputs": [],
   "source": []
  },
  {
   "cell_type": "markdown",
   "metadata": {
    "id": "nIzbLpQKSpbU"
   },
   "source": [
    "### Using higher 95% confidence interval"
   ]
  },
  {
   "cell_type": "code",
   "execution_count": 34,
   "metadata": {
    "colab": {
     "base_uri": "https://localhost:8080/"
    },
    "executionInfo": {
     "elapsed": 14,
     "status": "ok",
     "timestamp": 1654882830556,
     "user": {
      "displayName": "T H Molena",
      "userId": "09778002966791064148"
     },
     "user_tz": 240
    },
    "id": "NUm0N4VgRypz",
    "outputId": "ba08ff2a-7d39-4814-84c5-9247a5648426"
   },
   "outputs": [
    {
     "name": "stdout",
     "output_type": "stream",
     "text": [
      "Total violations: [25] (17.36% of the test data points)\n"
     ]
    }
   ],
   "source": [
    "ninety_fine_ci_higher = (y+ci).reshape(-1,1)\n",
    "# Fraction of under-estimated demands using higher 95% confidence interval\n",
    "violated_higher = (ninety_fine_ci_higher < test_pul)\n",
    "violations_higher = (test_pul - ninety_fine_ci_higher)[violated_higher]\n",
    "print('Total violations:', sum(violated_higher), '(%.2f%% of the test data points)' % (100*sum(violated_higher)/test_size) )"
   ]
  },
  {
   "cell_type": "code",
   "execution_count": 35,
   "metadata": {
    "colab": {
     "base_uri": "https://localhost:8080/"
    },
    "executionInfo": {
     "elapsed": 14,
     "status": "ok",
     "timestamp": 1654882830557,
     "user": {
      "displayName": "T H Molena",
      "userId": "09778002966791064148"
     },
     "user_tz": 240
    },
    "id": "-QnmVsg2RyuA",
    "outputId": "195d9780-01dc-4a65-91f8-322790ca2eab"
   },
   "outputs": [
    {
     "name": "stdout",
     "output_type": "stream",
     "text": [
      "Demand mean: 1468.3849718643323\n",
      "Violation mean: 227.57334631658284\n",
      "Violation excess: 15.50%\n"
     ]
    }
   ],
   "source": [
    "print('Demand mean:', np.mean(test_pul))\n",
    "print('Violation mean:', np.mean( violations_higher ) )\n",
    "print('Violation excess: %.2f%%' % (100 * np.mean( violations_higher) / np.mean(test_pul)) )"
   ]
  },
  {
   "cell_type": "code",
   "execution_count": null,
   "metadata": {
    "executionInfo": {
     "elapsed": 13,
     "status": "ok",
     "timestamp": 1654882830558,
     "user": {
      "displayName": "T H Molena",
      "userId": "09778002966791064148"
     },
     "user_tz": 240
    },
    "id": "ERwDssTiRyxo"
   },
   "outputs": [],
   "source": []
  },
  {
   "cell_type": "code",
   "execution_count": null,
   "metadata": {
    "executionInfo": {
     "elapsed": 13,
     "status": "ok",
     "timestamp": 1654882830558,
     "user": {
      "displayName": "T H Molena",
      "userId": "09778002966791064148"
     },
     "user_tz": 240
    },
    "id": "YaRq9LAxSylG"
   },
   "outputs": [],
   "source": []
  },
  {
   "cell_type": "markdown",
   "metadata": {
    "id": "lWcYQwAYVD5p"
   },
   "source": [
    "### Using lower 95% confidence interval"
   ]
  },
  {
   "cell_type": "code",
   "execution_count": 36,
   "metadata": {
    "colab": {
     "base_uri": "https://localhost:8080/"
    },
    "executionInfo": {
     "elapsed": 13,
     "status": "ok",
     "timestamp": 1654882830558,
     "user": {
      "displayName": "T H Molena",
      "userId": "09778002966791064148"
     },
     "user_tz": 240
    },
    "id": "xWqoLz1bSyqd",
    "outputId": "512db5b1-1eb7-4f98-84e9-d58abec6504c"
   },
   "outputs": [
    {
     "name": "stdout",
     "output_type": "stream",
     "text": [
      "Total violations: [114] (79.17% of the test data points)\n"
     ]
    }
   ],
   "source": [
    "ninety_fine_ci_lower = (y-ci).reshape(-1,1)\n",
    "# Fraction of under-estimated demands using higher 95% confidence interval\n",
    "violated_lower = (ninety_fine_ci_lower < test_pul)\n",
    "violations_lower = (test_pul - ninety_fine_ci_lower)[violated_lower]\n",
    "print('Total violations:', sum(violated_lower), '(%.2f%% of the test data points)' % (100*sum(violated_lower)/test_size) )"
   ]
  },
  {
   "cell_type": "code",
   "execution_count": 37,
   "metadata": {
    "colab": {
     "base_uri": "https://localhost:8080/"
    },
    "executionInfo": {
     "elapsed": 12,
     "status": "ok",
     "timestamp": 1654882830558,
     "user": {
      "displayName": "T H Molena",
      "userId": "09778002966791064148"
     },
     "user_tz": 240
    },
    "id": "5onfV1qJSyv6",
    "outputId": "234ab1b4-e179-4ed1-8fab-9fd174d41ef8"
   },
   "outputs": [
    {
     "name": "stdout",
     "output_type": "stream",
     "text": [
      "Demand mean: 1468.3849718643323\n",
      "Violation mean: 271.24064522985367\n",
      "Violation excess: 18.47%\n"
     ]
    }
   ],
   "source": [
    "print('Demand mean:', np.mean(test_pul))\n",
    "print('Violation mean:', np.mean( violations_lower ) )\n",
    "print('Violation excess: %.2f%%' % (100 * np.mean( violations_lower) / np.mean(test_pul)) )"
   ]
  },
  {
   "cell_type": "code",
   "execution_count": null,
   "metadata": {
    "executionInfo": {
     "elapsed": 12,
     "status": "ok",
     "timestamp": 1654882830559,
     "user": {
      "displayName": "T H Molena",
      "userId": "09778002966791064148"
     },
     "user_tz": 240
    },
    "id": "fP75y6gFVzAY"
   },
   "outputs": [],
   "source": []
  },
  {
   "cell_type": "code",
   "execution_count": 38,
   "metadata": {
    "executionInfo": {
     "elapsed": 12,
     "status": "ok",
     "timestamp": 1654882830559,
     "user": {
      "displayName": "T H Molena",
      "userId": "09778002966791064148"
     },
     "user_tz": 240
    },
    "id": "kBA7eeaRGPU2"
   },
   "outputs": [],
   "source": [
    "from scipy import stats\n",
    "from scipy.stats import norm"
   ]
  },
  {
   "cell_type": "code",
   "execution_count": 39,
   "metadata": {
    "executionInfo": {
     "elapsed": 11,
     "status": "ok",
     "timestamp": 1654882830559,
     "user": {
      "displayName": "T H Molena",
      "userId": "09778002966791064148"
     },
     "user_tz": 240
    },
    "id": "humJf0yfGVSB"
   },
   "outputs": [
    {
     "name": "stdout",
     "output_type": "stream",
     "text": [
      "95% CI is: (1451.7740922925118, 1579.4463666918632)\n"
     ]
    }
   ],
   "source": [
    "ci = stats.norm.interval(0.95,np.mean(predicted),np.std(predicted)/(1738**0.5))\n",
    "print('95% CI is:',ci)"
   ]
  },
  {
   "cell_type": "code",
   "execution_count": null,
   "metadata": {
    "executionInfo": {
     "elapsed": 532,
     "status": "ok",
     "timestamp": 1654882831080,
     "user": {
      "displayName": "T H Molena",
      "userId": "09778002966791064148"
     },
     "user_tz": 240
    },
    "id": "EyU-HZjHGZAa"
   },
   "outputs": [],
   "source": []
  },
  {
   "cell_type": "code",
   "execution_count": null,
   "metadata": {
    "id": "WbquuVwaNNi7"
   },
   "outputs": [],
   "source": []
  },
  {
   "cell_type": "code",
   "execution_count": null,
   "metadata": {
    "id": "Kui--f1yQEG7"
   },
   "outputs": [],
   "source": []
  }
 ],
 "metadata": {
  "accelerator": "GPU",
  "colab": {
   "collapsed_sections": [],
   "name": "Copy of GRU_DropOut.ipynb",
   "provenance": []
  },
  "kernelspec": {
   "display_name": "Python 3",
   "language": "python",
   "name": "python3"
  },
  "language_info": {
   "codemirror_mode": {
    "name": "ipython",
    "version": 3
   },
   "file_extension": ".py",
   "mimetype": "text/x-python",
   "name": "python",
   "nbconvert_exporter": "python",
   "pygments_lexer": "ipython3",
   "version": "3.7.13"
  }
 },
 "nbformat": 4,
 "nbformat_minor": 4
}
